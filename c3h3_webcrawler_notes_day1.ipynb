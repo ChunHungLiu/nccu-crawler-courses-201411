{
 "metadata": {
  "name": "",
  "signature": "sha256:b6bf4360de5ce59d867ab49c9b6f8b5f7a9e419d43aca8b11a2cb299706285fa"
 },
 "nbformat": 3,
 "nbformat_minor": 0,
 "worksheets": [
  {
   "cells": [
    {
     "cell_type": "markdown",
     "metadata": {},
     "source": [
      "# \u5f35\u5bb6\u9f4a\u5927\u5e2b\u6559\u7db2\u8def\u722c\u87f2 (Day 1)"
     ]
    },
    {
     "cell_type": "markdown",
     "metadata": {},
     "source": [
      "## \u96f6\u3001\u6982\u5ff5\n",
      "\n",
      "\u6211\u5011\u90fd\u4ee5\u70ba\u7528 Python \u597d\u50cf\u5c31\u662f\u53d6\u4ee3\u700f\u89bd\u5668, \u6293\u5230\u7684\u6771\u897f\u5c31\u662f\u6211\u5011\u700f\u89bd\u5668\u770b\u5230\u7684\u3002\u4f46\u662f\u7576\u6211\u5011\u95dc\u6389 JavaScript \u6642\u6703\u767c\u73fe\u5f88\u591a\u6771\u897f\u6211\u5011\u770b\u4e0d\u5230, \u9019\u5c31\u6709\u53ef\u80fd\u662f Python \u6293\u5230\u7684\u6a23\u5b50\u3002\n",
      "\n",
      "### \u7db2\u8def\u6293\u8cc7\u6599\u4e09\u90e8\u66f2:\n",
      "\n",
      "connector -> parser -> database (CSV or JSON file etc.)"
     ]
    },
    {
     "cell_type": "markdown",
     "metadata": {},
     "source": [
      "## \u4e00\u3001\u7b2c\u4e00\u500b\u4f8b\u5b50\n",
      "\n",
      "\u4f86\u6293 Yahoo! \u80a1\u7968\u8cc7\u8a0a\n",
      "\n",
      "![Yahoo \u80a1\u7968](images/yahoostocks.png)\n",
      "\n",
      "[Yahoo \u4e0a\u67d0\u80a1\u7968\u8cc7\u8a0a](https://tw.stock.yahoo.com/d/s/major_2451.html)"
     ]
    },
    {
     "cell_type": "markdown",
     "metadata": {},
     "source": [
      "### \u4e00\u5207\u7684\u958b\u59cb...\n",
      "\n",
      "\u4f7f\u7528 requests \u6293\u4e0b\u6211\u5011\u8981\u7684\u7db2\u9801\u3002"
     ]
    },
    {
     "cell_type": "code",
     "collapsed": false,
     "input": [
      "import requests"
     ],
     "language": "python",
     "metadata": {},
     "outputs": [],
     "prompt_number": 55
    },
    {
     "cell_type": "code",
     "collapsed": false,
     "input": [
      "res = requests.get(\"https://tw.stock.yahoo.com/d/s/major_2451.html\")"
     ],
     "language": "python",
     "metadata": {},
     "outputs": [],
     "prompt_number": 56
    },
    {
     "cell_type": "markdown",
     "metadata": {},
     "source": [
      "\u770b\u4e00\u4e0b\u9577\u4ec0\u9ebc\u6a23\u5b50\u3002"
     ]
    },
    {
     "cell_type": "code",
     "collapsed": false,
     "input": [
      "res.text"
     ],
     "language": "python",
     "metadata": {},
     "outputs": [
      {
       "metadata": {},
       "output_type": "pyout",
       "prompt_number": 57,
       "text": [
        "u'<!doctype html public \"-//w3c//dtd html 4.01//en\" \"http://www.w3.org/tr/html4/strict.dtd\">\\n<html>\\n<head>\\n<meta http-equiv=\"Content-Type\" content=\"text/html; charset=big5\">\\n<meta http-equiv=\"Expires\" content=\"Fri, 10 Jul 1998 15:00:00 +0800\">\\n<meta http-equiv=\"Cache-Control\" content=\"no-cache\">\\n<meta name=\"application-name\" content=\"Yahoo!\\\\xa9_\\\\xbc\\\\xaf\\\\xaa\\\\xd1\\\\xa5\\\\xab\"/>\\n<meta name=\"msapplication-TileColor\" content=\"#7b0099\"/> \\n<meta name=\"msapplication-TileImage\" content=\"https://s.yimg.com/f/i/tw/stock/tw_stock_icon_pin.png\"/>\\n<meta name=\"description\" content=\"\\u5275\\u898b(2451)\\u500b\\u80a1\\u7576\\u65e5\\u4e3b\\u529b\\u9032\\u51fa\\uff0c\\u67e5\\u8a62 \\u5275\\u898b \\u500b\\u80a1\\u80a1\\u50f9\\u3001\\u65b0\\u805e\\u3001\\u6210\\u4ea4\\u660e\\u7d30\\u3001\\u6280\\u8853\\u5206\\u6790\\u7b49\\u8cc7\\u8a0a\\uff0c\\u5c31\\u5728Yahoo!\\u5947\\u6469\\u80a1\\u5e02\\u3002\">\\n<TITLE>\\u5275\\u898b(2451)-\\u4e3b\\u529b\\u9032\\u51fa-\\u5947\\u6469\\u80a1\\u5e02</TITLE><!---------------------------------------//--->\\n<link rel=\"stylesheet\" type=\"text/css\" href=\"https://s.yimg.com/f/i/tw/hp/masthead/yhtw_masthead_standard.css\" media=\"screen, print\" />\\n<link rel=\"stylesheet\" type=\"text/css\" href=\"https://s.yimg.com/f/i/tw/hp/masthead/yhtw_masthead_12.css\" media=\"screen, print\" />\\n<link rel=\"stylesheet\" type=\"text/css\" href=\"https://s.yimg.com/f/i/tw/stock/revampe/css_1960_min.css\" media=\"screen, print\" />\\n<link rel=\"stylesheet\" type=\"text/css\" href=\"https://s.yimg.com/f/i/tw/stock/img06/stock_wd.css\" media=\"screen, print\" />\\n<link rel=\"stylesheet\" type=\"text/css\" href=\"https://s.yimg.com/f/i/tw/stock/img06/stock_print.css\" media=\"print\" />\\n<link href=\"https://s.yimg.com/f/i/tw/hp/Universal_header/uh_bt3.css\" type=\"text/css\" rel=\"stylesheet\"/>\\n<link href=\"https://s.yimg.com/f/i/tw/stock/revampe/ystock_uh.css\" type=\"text/css\" rel=\"stylesheet\"/>\\n<link href=\"https://s.yimg.com/f/i/tw/stock/img06/stock.css\" rel=\"stylesheet\" type=\"text/css\">\\n<script language=\"javascript\" src=\"https://s.yimg.com/f/i/tw/stock/img06/stock22.js\"></script>\\n<script type=\"text/javascript\" src=\"https://s.yimg.com/lh/mbz/loader-min.js\"></script>\\n<script type=\\'text/javascript\\'>\\n    !window.YUI && document.write(\"<script type=\\\\\"text/javascript\\\\\" src=\\\\\"https://s.yimg.com/zz/combo?yui:3.5.1/build/yui/yui-min.js\\\\\">\"+\"</scr\"+\"ipt>\");\\n</script>\\n<script type=\"text/JavaScript\">\\n<!--\\nfunction MM_swapImgRestore() { //v3.0\\n var i,x,a=document.MM_sr; for(i=0;a&&i<a.length&&(x=a[i])&&x.oSrc;i++) x.src=x.oSrc;\\n}\\nfunction MM_preloadImages() { //v3.0\\n var d=document; if(d.images){ if(!d.MM_p) d.MM_p=new Array();\\n var i,j=d.MM_p.length,a=MM_preloadImages.arguments; for(i=0; i<a.length; i++)\\n if (a[i].indexOf(\"#\")!=0){ d.MM_p[j]=new Image; d.MM_p[j++].src=a[i];}}\\n}\\nfunction MM_findObj(n, d) { //v4.01\\n var p,i,x; if(!d) d=document; if((p=n.indexOf(\"?\"))>0&&parent.frames.length) {\\n d=parent.frames[n.substring(p+1)].document; n=n.substring(0,p);}\\n if(!(x=d[n])&&d.all) x=d.all[n]; for (i=0;!x&&i<d.forms.length;i++) x=d.forms[i][n];\\n for(i=0;!x&&d.layers&&i<d.layers.length;i++) x=MM_findObj(n,d.layers[i].document);\\n if(!x && d.getElementById) x=d.getElementById(n); return x;\\n}\\nfunction MM_swapImage() { //v3.0\\n var i,j=0,x,a=MM_swapImage.arguments; document.MM_sr=new Array; for(i=0;i<(a.length-2);i+=3)\\n if ((x=MM_findObj(a[i]))!=null){document.MM_sr[j++]=x; if(!x.oSrc) x.oSrc=x.src; x.src=a[i+2];}\\n}\\n//-->\\n</script>\\n</head>\\n<!--------------------stock title start-------------------------->\\n<!---- \\u5609\\u5be6 Logo ---->\\n<body bgcolor=\"#FFFFFF\" topmargin=\"0\" style=\"margin-top:0px;display:none\" allow-from=\"*.yahoo.com *.yahoo.net\">\\n<center>\\n<!--- masthead --->\\n<!--BEGIN:Universal Master Header-->\\n            <div id=\"ygma\" class=\"fix750\" style=\"margin: 0 auto;border:none;\">\\n<link type=\\'text/css\\' rel=\\'stylesheet\\' href=\\'https://s.yimg.com/zz/combo?kx/yucs/uh2/uh/295/css/yunivhead-min.css&kx/yucs/uh2/uh/295/css/logo-min.css&kx/ucs/avatar/css/17/avatar-min.css&kx/yucs/uh2/mail-link/85/css/mailcount_v2-min.css&kx/yucs/uh2/mail-link/85/css/mail_preview-min.css&kx/ucs/search/css/190/search_all-min.css&kx/ucs/search/css/190/search_buttons-min.css&kx/yucs/uh2/uh/295/css/yunivhead_https-min.css&kx/yucs/uh_common/meta/3/css/meta-min.css\\' /><div id=\"yUnivHead\" class=\"yucs-zh-hant-tw\" data-lang=\"zh-hant-tw\" data-property=\"finance\" data-flight=\"1417501559\" data-uhvc=\"/\"> <div id=\"yucs-disclaimer\" class=\"yucs-disclaimer yucs-activate yucs-hide yucs-property-finance yucs-fcb- \" data-dsstext=\"\\u60f3\\u8981\\u4eab\\u53d7\\u66f4\\u597d\\u7684\\u641c\\u5c0b\\u9ad4\\u9a57\\u55ce\\uff1f {dssLink}\\u5c07\\u60a8\\u7684\\u641c\\u5c0b\\u8a2d\\u70ba Yahoo\\u5947\\u6469{linkEnd}\" data-dsstext-mobile=\"\\u66f4\\u5c11\\u7684\\u641c\\u5c0b\\u52d5\\u4f5c\\uff0c\\u66f4\\u591a\\u7684\\u641c\\u5c0b\\u7d50\\u679c\" data-dsstext-mobile-ok=\"\\u78ba\\u5b9a\" data-dsstext-mobile-set-search=\"\\u5c07\\u60a8\\u7684\\u641c\\u5c0b\\u8a2d\\u5b9a\\u70ba Yahoo\\u3002\" data-ylt-link=\"https://tw.search.yahoo.com/searchset?pn=\" data-ylt-dssbarclose=\"/\" data-ylt-dssbaropen=\"/\" data-linktarget=\"_top\" data-lang=\"zh-hant-tw\" data-property=\"finance\" data-device=\"Desktop\" data-close-txt=\"\\u95dc\\u9589\\u6b64\\u8996\\u7a97\" data-maybelater-txt = \"\\u7a0d\\u5f8c\\u518d\\u8aaa\" data-killswitch = \"0\" data-host=\"tw.stock.yahoo.com\" data-spaceid=\"\" data-pn=\"\" data-pn-en-ca-mobile=\"\" data-pn-de-de-mobile=\"\" data-pn-es-es-mobile=\"\" data-pn-fr-fr-mobile=\"\" data-pn-en-in-mobile=\"\" data-pn-it-it-mobile=\"\" data-pn-en-us-mobile=\"\" data-pn-en-sg-mobile=\"\" data-pn-en-gb-mobile=\"\" data-pn-en-us-tablet=\"\" data-news-search-yahoo-com=\"\" data-answers-search-yahoo-com=\"\" data-finance-search-yahoo-com=\"\" data-images-search-yahoo-com=\"\" data-video-search-yahoo-com=\"\" data-sports-search-yahoo-com=\"\" data-shopping-search-yahoo-com=\"\" data-shopping-yahoo-com=\"\" data-us-qa-trunk-news-search-yahoo-com =\"\" data-dss=\"\"></div>   <a href=\"#yuhead-search\" class=\"yucs-skipto-search yucs-activate\">\\u8df3\\u81f3\\u641c\\u5c0b\\u6b04\\u3002</a>  <div id=\"yuhead-hd\" class=\"yuhead-clearfix\"> <div id=\"yuhead-mepanel-cont\"> <ul id=\"yuhead-mepanel\" class=\"yucs-toolbar yucs-activate\" aria-label=\"\\u7528\\u6236\\u670d\\u52d9\"><li class=\"yuhead-me yuhead-nodivide yuhead-nopad\"> <a class=\"yuhead-signup\" href=\"https://edit.yahoo.com/config/eval_register?.src=quote&.intl=tw&.lang=zh-Hant-TW&.done=https://tw.stock.yahoo.com/d/s/major_2451.html\" target=\"_top\" rel=\"nofollow\"> <em>\\u662f\\u65b0\\u7528\\u6236\\u55ce\\uff1f</em> \\u8acb\\u8a3b\\u518a</a></li><li class=\"yuhead-me\"> <a href=\"https://login.yahoo.com/config/login?.src=quote&.intl=tw&.lang=zh-Hant-TW&.done=https://tw.stock.yahoo.com/d/s/major_2451.html\" target=\"_top\" rel=\"nofollow\"> <em>\\u767b\\u5165</em></a></li><li class=\"yuhead-me\"><a href=\"http://tw.help.cc.yahoo.com/?product=stock\" rel=\"nofollow\" target=\"_top\">\\u670d\\u52d9\\u8aaa\\u660e</a></li></ul>   </div> <div id=\"yuhead-promo\"><a style=\"font-weight:bold;\"href=\"http://tw.overview.mail.yahoo.com/\" target=\"_top\" rel=\"nofollow\">\\u4e0b\\u8f09 Yahoo \\u5947\\u6469\\u96fb\\u5b50\\u4fe1\\u7bb1Apps</a></div> <div id=\"yuhead-com-links-cont\"> <ul id=\"yuhead-com-links\" class=\"yucs-toolbar yucs-activate\" aria-label=\"Yahoo \\u5947\\u6469\\u670d\\u52d9\\u7e3d\\u89bd\">  <li class=\"yuhead-com-link-item yucs-mailpreview-ancestor\"> <a class=\"sp yltasis yuhead-ico-mail\" href=\"https://tw.mail.yahoo.com/?.intl=tw&.lang=zh-Hant-TW\" rel=\"nofollow\" target=\"_top\">\\u4fe1\\u7bb1</a><ul class=\"yucs-mail-preview-panel hide\" data-uri-scheme=\"http\" data-uri-path=\"ucs.query.yahoo.com/v1/console/yql\" data-mail-txt=\"\\u4fe1\\u7bb1\" data-mail-view=\"\\u6aa2\\u8996\\u6240\\u6709 Yahoo \\u4fe1\\u4ef6\" data-mail-help-txt=\"\\u670d\\u52d9\\u8aaa\\u660e\" data-mail-help-url=\"http://help.cc.tw.yahoo.com/help_cp.html?product=29\" data-mail-loading-txt=\"\\u8f09\\u5165\\u4e2d...\" data-languagetag=\"zh-hant-tw\" data-mrd-crumb=\"\" data-authstate=\"signedout\" data-middleauth-signin-text=\"\\u9ede\\u9078\\u9019\\u88e1\\u6aa2\\u8996\\u60a8\\u7684\\u4fe1\\u4ef6\" data-popup-login-url=\"https://login.yahoo.com/config/login_verify2?.pd=c%3DOIVaOGq62e5hAP8Tv..nr5E3&.src=sc\" data-middleauthtext=\"\\u4f60\\u6709 {count} \\u5c01\\u65b0\\u4fe1\\u3002\" data-yltmessage-link=\"http://mrd.mail.yahoo.com/msg?mid={msgID}&fid=Inbox&src=uh&.crumb=\" data-yltviewall-link=\"https://tw.mail.yahoo.com/\" data-yltpanelshown=\"/\"></ul></li><li class=\"yuhead-com-link-item\"> <a href=\"http://tw.bid.yahoo.com/\" rel=\"nofollow\" target=\"_top\"> \\u62cd\\u8ce3 </a></li><li id=\"yuhead-com-home\"><a class=\"sp yuhead-ico-home\" href=\"https://tw.yahoo.com/\" rel=\"nofollow\" target=\"_top\">Yahoo \\u5947\\u6469</a></li> </ul> </div> </div> <div id=\"yuhead-bd\" class=\"yuhead-clearfix\"> <div class=\"yuhead-logo\"> <style> .yuhead-logo h2{ width:350px; height:58px; background-image:url(https://s.yimg.com/rz/d/yahoo_finance_zh-Hant-TW_s_f_pw_351x40_stock.png\\n); _background-image:url(https://s.yimg.com/rz/d/yahoo_finance_zh-Hant-TW_s_f_pw_351x40_stock.gif\\n); } .yuhead-logo a{ width:350px; height:58px; } .yuhead-logo div.yuhead-comarketing { width:350px; } .yog-tablet #yUnivHead h2 { background-position: -350px 5px !important; } html[lang=\\'en-AU\\'] .yog-tablet #yUnivHead .yuhead-logo h2 { background-position: -350px 5px !important; } html[lang=\\'en-NZ\\'] .yog-tablet #yUnivHead .yuhead-logo h2 { background-position: -350px 5px !important; } .yog-smartphone #yUnivHead h2 { background-position: -265px 0; background-size: 534px; margin-left: 26%; } .yog-tablet .yuhead-logo h2{ background-repeat: repeat-x; } .yog-tablet.yog-version-v2 #yUnivHead h2 { background-position: center !important; } .yog-tablet #yUnivHead .yuhead-logo h2 { height: 40px !important; } .yog-rtl.yog-smartphone #yUnivHead .yuhead-logo h2 { background-position: -352px 0; !important; background-size: 536px !important; margin-left: 30% !important; } html[lang=\\'ar\\'] .yog-rtl.yog-smartphone #yUnivHead .yuhead-logo h2 { background-position: -386px 0; !important; } .yog-smartphone #yUnivHead h2.yuhead-music { background-position: 0 0 !important; width: 260px !important; } html[lang=\\'en-US\\'] .yog-smartphone #yUnivHead h2 { background-size: auto 21px !important; background-position: -350px 0; } html[lang=\\'pt-BR\\'] .yog-smartphone #yUnivHead h2.yuhead-sports { background-position: -265px 0 !important; background-size: 534px; margin-left: 17%; } html[lang=\\'ar\\'] .yog-smartphone #yUnivHead h2.yuhead-omg { background-position: -383px 0 !important; background-size: 605px; margin-left: 0; width: auto; } html[lang=\\'en-PH\\'] .yog-tablet #yUnivHead .yuhead-logo h2 { height: 47px !important; } html[lang=\\'en-PH\\'] .yog-smartphone #yUnivHead h2 { width: 255px; } </style> <h2 class=\"yuhead-finance yuhead-standard\"> <a href=\"https://tw.finance.yahoo.com/\" target=\"_top\" tabindex=\"-1\"> Yahoo \\u80a1\\u5e02 </a> </h2> <div id=\"yucs-disclaimer-md\" class=\"yucs-disclaimer-md yucs-activate yucs-hide Desktop  yucs-property-finance yucs-fcb-\" data-dsstext=\"\\u60f3\\u8981\\u4eab\\u53d7\\u66f4\\u597d\\u7684\\u641c\\u5c0b\\u9ad4\\u9a57\\u55ce\\uff1f {dssLink}\\u5c07\\u60a8\\u7684\\u641c\\u5c0b\\u8a2d\\u70ba Yahoo\\u5947\\u6469{linkEnd}\" data-dsstext-mobile=\"\\u66f4\\u5c11\\u7684\\u641c\\u5c0b\\u52d5\\u4f5c\\uff0c\\u66f4\\u591a\\u7684\\u641c\\u5c0b\\u7d50\\u679c\" data-dsstext-mobile-ok=\"\\u78ba\\u5b9a\" data-dsstext-mobile-set-search=\"\\u5c07\\u60a8\\u7684\\u641c\\u5c0b\\u8a2d\\u5b9a\\u70ba Yahoo\\u3002\" data-ylt-link=\"https://tw.search.yahoo.com/searchset?pn=\" data-ylt-dssbarclose=\"/\" data-ylt-dssbaropen=\"/\" data-linktarget=\"_top\" data-lang=\"zh-hant-tw\" data-property=\"finance\" data-device=\"Desktop\" data-close-txt=\"\\u95dc\\u9589\\u6b64\\u8996\\u7a97\" data-maybelater-txt = \"\\u7a0d\\u5f8c\\u518d\\u8aaa\" data-killswitch = \"0\" data-dss=\"\"></div><script typ=\"text/javascript\" src=\"https://s.yimg.com/kx/yucs/uh3/disclaimer/274/js/disclaimer_seed-min.js\"></script> </div> <div id=\"yuhead-search\"> <div id=\"yuhead-sform-cont\" class=\"yuhead-s-web yuhead-search-form\"> <form role=\"search\" class=\"yucs-search yucs-activate\" target=\"_top\" action=\"https://tw.search.yahoo.com/search\" method=\"get\"><table role=\"presentation\"> <tbody role=\"presentation\"><tr role=\"presentation\"><td class=\"yucs-form-input\" role=\"presentation\"> <label for=\"yuhead-sform-searchfield\"> <span>\\u641c\\u5c0b</span> </label> <input autocomplete=\"off\" type=\"text\" class=\"sp yuhead-ico-mglass yuhead-search-hint yucs-search-field\" name=\"p\" data-sh=\"\\u641c\\u5c0b\"  data-gosurl=\"\" id=\"yuhead-sform-searchfield\" data-pubid=\"\" /></td><td NOWRAP class=\"yucs-form-btn\" role=\"presentation\"><div class=\"yucs-btn-wrap\"> <button class=\"yucs-sweb-btn\" type=\"submit\">\\u7db2\\u9801\\u641c\\u5c0b</button></div> </td> </tr> </tbody></table><input type=\"hidden\" id=\"fr\" name=\"fr\" value=\"ush1-finance\" /></form> </div> </div>  </div>               <!-- meta --><div id=\"yucs-meta\" data-authstate=\"signedout\" data-cobrand=\"standard\" data-crumb=\"\" data-mc-crumb=\"\" data-gta=\"\" data-device=\"desktop\" data-experience=\"\" data-firstname=\"\" data-flight=\"1417501559\" data-forcecobrand=\"standard\" data-guid=\"\" data-host=\"tw.stock.yahoo.com\" data-https=\"1\" data-languagetag=\"zh-hant-tw\" data-property=\"finance\" data-protocol=\"\" data-shortfirstname=\"\" data-shortuserid=\"\" data-status=\"active\" data-spaceid=\"\" data-test_id=\"\" data-userid=\"\" data-stickyheader=\"true\" data-headercollapse=\\'\\' ></div><!-- /meta --></div><script type=\"text/javascript\" charset=\"utf-8\"> YUI().use(\\'node\\',\\'event\\',\\'event-mouseenter\\',\\'substitute\\',\\'oop\\',\\'node-focusmanager\\',\\'node\\',\\'event\\',\\'substitute\\',\\'cookie\\',\\'event-resize\\',\\'node\\', \\'event\\', \\'querystring-stringify\\',\\'node\\',\\'event\\',\\'node\\',\\'event\\',\\'event-custom\\',\\'event-valuechange\\',\\'classnamemanager\\',\\'node\\', function(Y) {});</script><script charset=\\'utf-8\\' type=\\'text/javascript\\' src=\\'https://s.yimg.com/zz/combo?kx/ucs/common/js/140/setup-min.js&kx/ucs/sts/js/442/skip-min.js&kx/yucs/uh2/uh/295/js/timestamp_library-min.js&kx/ucs/menu_utils/js/164/menu_utils_v2-min.js&kx/yucs/uh2/uh/295/js/aria_toolbar-min.js&kx/ucs/username/js/43/user_menu-min.js&kx/ucs/help/js/41/help_menu-min.js&kx/ucs/utility_link/js/20/utility_menu-min.js&kx/yucs/uh2/uh/295/js/logo_debug-min.js&kx/yucs/uh3/disclaimer/328/js/disclaimer_seed-min.js&kx/ucs/common/js/131/jsonp-super-cached-min.js&kx/ucs/avatar/js/30/avatar-min.js&kx/yucs/uh2/mail-link/85/js/mailcount_v2-min.js&kx/ucs/search/js/226/search-min.js&kx/ucs/search/js/210/search_text_dir-min.js&kx/yucs/uh2/uh/295/js/activate_library-min.js&kx/yucs/uhc/meta/55/js/meta-min.js\\'></script>            </div>\\n            <!--END:Universal Master Header--><!--- /masthead --->\\n</center>\\n<p align=\"center\">\\n<!--------------------stock title end-------------------------->\\n<p align=\"center\">\\n<!-- SpaceID=0 robot -->\\n</p>\\n<!--- JS --->\\n<!--------------------tool bar start-------------------------->\\n<div align=\"center\"><center>\\n<script lang=\"text/javascript\">\\n<!--\\nvar redirect = \"https://tw.rd.yahoo.com/referurl/stock/other\";\\nfunction stkClearMe(control)\\n{\\n control.value = \\'\\';\\n control.style.color = \"black\";\\n}\\nfunction stkRestore(control, str)\\n{\\n if (control.value == \\'\\') {control.value = str; control.style.color = \"#a8a8a8\";};\\n}\\nfunction stockmenu_submit (form) \\n{\\n if (form.stock_id.value == \\'\\u8f38\\u5165\\u53f0\\u80a1\\u4ee3\\u865f/\\u540d\\u7a31\\')\\n {\\n return false;\\n }\\n else\\n { \\n switch ( form.func.value ) {\\n case \\'G\\': form.action = redirect + \\'/get_quote/quote/*\\' + form.action; break;\\n case \\'L\\': form.action = redirect + \\'/get_quote/chart/*\\' + form.action; break;\\n case \\'I\\': form.action = redirect + \\'/get_quote/prices/*\\' + form.action; break;\\n case \\'N\\': form.action = redirect + \\'/get_quote/news/*\\' + form.action; break;\\n case \\'H\\': form.action = redirect + \\'/get_quote/health/*\\' + form.action; break;\\n case \\'F\\': form.action = redirect + \\'/get_quote/fundamental/*\\' + form.action; break;\\n case \\'C\\': form.action = redirect + \\'/get_quote/credit/*\\' + form.action; break;\\n case \\'T\\': form.action = redirect + \\'/get_quote/daily/*\\' + form.action; break;\\n case \\'W\\': form.action = redirect + \\'/get_quote/weekly/*\\' + form.action; break;\\n case \\'M\\': form.action = redirect + \\'/get_quote/monthly/*\\' + form.action; break;\\n }\\n form.submit();\\n }\\n}\\n//-->\\n</script>\\n<!--\\u4e3b\\u9078\\u55ae start-->\\n<div id=\"ystkglonav\" class=\\'yui-ystkglonav \\'>\\n<table width=\"750\" border=\"0\" align=\"center\" cellpadding=\"0\" cellspacing=\"0\">\\n <tr>\\n <td height=\"36\" valign=\"bottom\" background=\"https://s.yimg.com/f/i/tw/stock/revamp/t_bg01.jpg\"><table width=\"730\" border=\"0\" align=\"center\" cellpadding=\"0\" cellspacing=\"0\">\\n <tr>\\n<td width=\"57\" valign=\"bottom\"><a href=\\'https://tw.rd.yahoo.com/referurl/stock/other/nav/home/*https://tw.stock.yahoo.com/\\' onMouseOut=\"MM_swapImgRestore()\" onMouseOver=\"MM_swapImage(\\'Image50\\',\\'\\',\\'https://s.yimg.com/f/i/tw/stock/yimg/t1_idx_v_new.png\\',1)\"><img src=\"https://s.yimg.com/f/i/tw/stock/yimg/t1_idx_new.png\" name=\"Image50\" width=\"53\" height=\"24\" border=\"0\" title=\"\\u9996\\u9801\" alt=\"\\u9996\\u9801\"/></a></td>\\n<td width=\"89\" valign=\"bottom\"><a href=\\'https://tw.rd.yahoo.com/referurl/stock/other/nav/portfolio/*https://tw.stock.yahoo.com/pf/mypf\\' onMouseOut=\"MM_swapImgRestore()\" onMouseOver=\"MM_swapImage(\\'Image51\\',\\'\\',\\'https://s.yimg.com/f/i/tw/stock/yimg/t2_ivst_v.png\\',1)\"><img src=\"https://s.yimg.com/f/i/tw/stock/yimg/t2_ivst.png\" name=\"Image51\" width=\"85\" height=\"24\" border=\"0\" title=\"\\u6295\\u8cc7\\u7d44\\u5408\" alt=\"\\u6295\\u8cc7\\u7d44\\u5408\"/></a></td>\\n<td width=\"89\" valign=\"bottom\"><a href=\\'https://tw.rd.yahoo.com/referurl/stock/other/nav/industry/*https://tw.stock.yahoo.com/h/getclass.php\\'><img src=\"https://s.yimg.com/f/i/tw/stock/yimg/t3_tdy_o.png\" name=\"Image55\" width=\"85\" height=\"31\" border=\"0\" title=\"\\u7576\\u65e5\\u884c\\u60c5\" alt=\"\\u7576\\u65e5\\u884c\\u60c5\"></a></td>\\n<td width=\"57\" valign=\"bottom\"><a href=\\'https://tw.rd.yahoo.com/referurl/stock/other/nav/tse/*https://tw.stock.yahoo.com/s/tse.php\\' onMouseOut=\"MM_swapImgRestore()\" onMouseOver=\"MM_swapImage(\\'Image53\\',\\'\\',\\'https://s.yimg.com/f/i/tw/stock/yimg/t4_big_v.png\\',1)\"><img src=\"https://s.yimg.com/f/i/tw/stock/yimg/t4_big.png\" name=\"Image53\" width=\"53\" height=\"24\" border=\"0\" title=\"\\u5927\\u76e4\" alt=\"\\u5927\\u76e4\"/></a></td>\\n<td width=\"57\" valign=\"bottom\"><a href=\\'https://tw.rd.yahoo.com/referurl/stock/other/nav/indice/*https://tw.stock.yahoo.com/s/nine.php\\' onMouseOut=\"MM_swapImgRestore()\" onMouseOver=\"MM_swapImage(\\'Image54\\',\\'\\',\\'https://s.yimg.com/f/i/tw/stock/yimg/t5_cls_v.png\\',1)\"><img src=\"https://s.yimg.com/f/i/tw/stock/yimg/t5_cls.png\" name=\"Image54\" width=\"53\" height=\"24\" border=\"0\" title=\"\\u985e\\u80a1\" alt=\"\\u985e\\u80a1\"/></a></td>\\n<td width=\"57\" valign=\"bottom\"><a href=\\'https://tw.rd.yahoo.com/referurl/stock/other/nav/futures/*https://tw.stock.yahoo.com/future/\\' onMouseOut=\"MM_swapImgRestore()\" onMouseOver=\"MM_swapImage(\\'Image52\\',\\'\\',\\'https://s.yimg.com/f/i/tw/stock/yimg/t6_ftr_v_future.png\\',1)\"><img src=\"https://s.yimg.com/f/i/tw/stock/yimg/t6_ftr_future.png\" name=\"Image52\" width=\"53\" height=\"24\" border=\"0\" title=\"\\u671f\\u6b0a\" alt=\"\\u671f\\u6b0a\"/></a></td>\\n<td width=\"89\" valign=\"bottom\"><a href=\\'https://tw.rd.yahoo.com/referurl/stock/other/nav/hkcn/*https://tw.stock.yahoo.com/hkcn/\\' onMouseOut=\"MM_swapImgRestore()\" onMouseOver=\"MM_swapImage(\\'Image56\\',\\'\\',\\'https://s.yimg.com/f/i/tw/stock/yimg/t7_hk_v.png\\',1)\"><img src=\"https://s.yimg.com/f/i/tw/stock/yimg/t7_hk.png\" name=\"Image56\" width=\"85\" height=\"24\" border=\"0\" title=\"\\u6e2f\\u6eec\\u6df1\\u80a1\" alt=\"\\u6e2f\\u6eec\\u6df1\\u80a1\"/></a></td>\\n<td width=\"57\" valign=\"bottom\"><a href=\\'https://tw.rd.yahoo.com/referurl/stock/other/nav/us/*https://tw.stock.yahoo.com/us/\\' onMouseOut=\"MM_swapImgRestore()\" onMouseOver=\"MM_swapImage(\\'Image57\\',\\'\\',\\'https://s.yimg.com/f/i/tw/stock/yimg/t8_us_v.png\\',1)\"><img src=\"https://s.yimg.com/f/i/tw/stock/yimg/t8_us.png\" name=\"Image57\" width=\"53\" height=\"24\" border=\"0\" title=\"\\u7f8e\\u80a1\" alt=\"\\u7f8e\\u80a1\"/></a></td>\\n<td width=\"57\" valign=\"bottom\"><a href=\\'https://tw.rd.yahoo.com/referurl/stock/other/nav/news/*https://tw.stock.yahoo.com/news_index.html\\' onMouseOut=\"MM_swapImgRestore()\" onMouseOver=\"MM_swapImage(\\'Image58\\',\\'\\',\\'https://s.yimg.com/f/i/tw/stock/yimg/t9_nws_v.png\\',1)\"><img src=\"https://s.yimg.com/f/i/tw/stock/yimg/t9_nws.png\" name=\"Image58\" width=\"53\" height=\"24\" border=\"0\" title=\"\\u65b0\\u805e\" alt=\"\\u65b0\\u805e\"/></a></td>\\n<td width=\"77\" valign=\"bottom\"><a href=\\'https://tw.rd.yahoo.com/referurl/stock/other/SIG=125gf33ql/**https://tw.screener.finance.yahoo.net/screener/basic.html\\' onMouseOut=\"MM_swapImgRestore()\" onMouseOver=\"MM_swapImage(\\'Image59\\',\\'\\',\\'https://s.yimg.com/f/i/tw/stock/yimg/t10a_fd_v_new.png\\',1)\"><img src=\"https://s.yimg.com/f/i/tw/stock/yimg/t10a_fd_new.png\" name=\"Image59\" width=\"73\" height=\"24\" border=\"0\" title=\"Y\\u9078\\u80a1\" alt=\"Y\\u9078\\u80a1\"/></a></td>\\n<td width=\"57\" valign=\"bottom\"><a href=\\'https://tw.rd.yahoo.com/referurl/stock/other/SIG=125gf33ql/**https://tw.campaign.yahoo.com/stock/house/2014/\\' onMouseOut=\"MM_swapImgRestore()\" onMouseOver=\"MM_swapImage(\\'Image60\\',\\'\\',\\'https://s.yimg.com/f/i/tw/stock/yimg/t11_hou_v.png\\',1)\"><img src=\"https://s.yimg.com/f/i/tw/stock/yimg/t11_hou.png\" name=\"Image60\" width=\"53\" height=\"24\" border=\"0\" title=\"\\u623f\\u5e02\" alt=\"\\u623f\\u5e02\"/></a></td> </tr>\\n </table></td>\\n </tr>\\n <tr>\\n <td height=\"8\" background=\"https://s.yimg.com/f/i/tw/stock/revamp/bg02.gif\"></td>\\n </tr>\\n <tr>\\n <td height=\"36\" bgcolor=\"#4f627b\"><table width=\"740\" border=\"0\" align=\"center\" cellpadding=\"0\" cellspacing=\"2\">\\n <tr><form name=\"menu\" action=\"https://tw.stock.yahoo.com/h/stockmenu.php\" onsubmit=\"return stockmenu_submit(this);\"> <td valign=\"top\"><a href=\"javascript:open_win(\\'/h/kimosel.php\\',\\'menu\\',\\'stock_id\\',\\'stock_name\\')\" onMouseOut=\"MM_swapImgRestore()\" onMouseOver=\"MM_swapImage(\\'button01\\',\\'\\',\\'https://s.yimg.com/f/i/tw/stock/revamp/button01_f2.gif\\',1);\" class=\"yui-tw-stock-block yui-nav-but\"><img name=\"button01\" src=\"https://s.yimg.com/f/i/tw/stock/revamp/button01.gif\" width=\"95\" height=\"21\" border=\"0\" alt=\"\"></a></td>\\n <td>\\n <input type=\"hidden\" name=\"stock_name\" value>\\n <input value=\"\\u8f38\\u5165\\u53f0\\u80a1\\u4ee3\\u865f/\\u540d\\u7a31\" onfocus=\"javascript:stkClearMe(this);\" onblur=\"javascript:stkRestore(this,\\'\\u8f38\\u5165\\u53f0\\u80a1\\u4ee3\\u865f/\\u540d\\u7a31\\');\" id=\"stock_id\" name=\"stock_id\" type=\"text\" size=\"15\" />\\n<script language=\"javascript\">\\nif(document.getElementById(\"stock_id\").value == \"\\u8f38\\u5165\\u53f0\\u80a1\\u4ee3\\u865f/\\u540d\\u7a31\")\\n{\\n   document.getElementById(\"stock_id\").style.color = \"#a8a8a8\";\\n}\\n</script>\\n        </td>\\n        <td><label>\\n          <select name=\"func\" onChange=\"return stockmenu_submit(this.form);\">\\n              <option VALUE=\"G\" SELECTED>\\uff0d\\uff0d\\u7576\\u65e5\\u500b\\u80a1\\u80a1\\u50f9\\uff0d\\uff0d</option>\\n              <option VALUE=\"L\">\\uff0d\\uff0d\\u7576\\u65e5\\u500b\\u80a1\\u8d70\\u52e2\\uff0d\\uff0d</option>\\n              <option VALUE=\"I\">\\uff0d\\uff0d\\u500b\\u80a1\\u6210\\u4ea4\\u660e\\u7d30\\uff0d\\uff0d</option>\\n              <option VALUE=\"N\">\\uff0d\\uff0d\\u500b\\u80a1\\u65b0\\u805e\\uff0d\\uff0d</option>\\n              <option VALUE=\"H\">\\uff0d\\uff0d\\u500b\\u80a1\\u5065\\u8a3a\\uff0d\\uff0d</option>\\n              <option VALUE=\"F\">\\uff0d\\uff0d\\u516c\\u53f8\\u57fa\\u672c\\u8cc7\\u6599\\uff0d\\uff0d</option>\\n              <option VALUE=\"C\">\\uff0d\\uff0d\\u500b\\u80a1\\u7c4c\\u78bc\\u5206\\u6790\\uff0d\\uff0d</option>\\n              <option VALUE=\"T\">\\uff0d\\uff0d\\u6b77\\u53f2\\u80a1\\u50f9\\uff2b\\u7dda\\u5716\\uff0d</option>\\n            </select>\\n          </label></td>\\n          <td><label><input style=\"width:40px;\" type=\"submit\" name=\"xSubmit\" value=\"\\u67e5\\u8a62\"/>\\n          </label></td>\\n<!-- type - 3, ref: Array\\n(\\n    [hh] => 22\\n    [mm] => 30\\n)\\n -->\\n        <td width=\"270\" class=\"ssbody\"><div align=\"right\"><span class=\"ssbodyw\">2014/12/02 14:25 \\u8ddd\\u96e2\\u7f8e\\u80a1\\u958b\\u76e4\\u9084\\u67098\\u5c0f\\u66425\\u5206\\u9418</span></div></td>\\n   <td>\\n   <a class=\"refresh\" href=\\'\\' >\\u66f4\\u65b0</a>\\n   </td>\\n   </div></td>      </form></tr>\\n    </table>\\n    <label></label></td>\\n  </tr>\\n  <tr>\\n    <td height=\"4\" bgcolor=\"#FFFFFF\"></td>\\n    </tr>\\n  </table>\\n  </div>\\n<script language=\"javascript\">\\nif(document.getElementById(\"stock_id\").value == \"\\u8f38\\u5165\\u53f0\\u80a1\\u4ee3\\u865f/\\u540d\\u7a31\")\\n{\\n  document.getElementById(\"stock_id\").style.color = \"#a8a8a8\";\\n}\\n</script>\\n<!--\\u4e3b\\u9078\\u55ae end-->\\n\\n\\n\\n</center></div>\\n<!---------------------quary bar start-------------------->\\n<center>\\n<!--\\n<div class=\"mobilizer other-entry\"><a href=\"#\" onclick=\"return YMobilizer.load({app: \\'finance\\', lang: \\'zh-Hant-TW\\'})\" class=\"mob-com\">\\u624b\\u6a5f\\u770b\\u80a1\\u5e02</a></div>\\n-->\\n<table border=\"0\" cellPadding=\"9\" cellSpacing=\"1\" >\\n  <tr>\\n    <td><table width=\"600\" border=\"0\" cellspacing=\"0\" cellpadding=\"2\">\\n      <tr>\\n<!---\\n         <form name=\"menu\" action=\"/s/stockmenu.php\">\\n--->\\n         <form name=\"twstock_other_list_menu\" action=\"/fcgi-bin/stockmenu.fcg\">\\n         <input type=\"hidden\" name=\"stock_name\" value>\\n         <td align=\"center\" width=\"600\" valign=\"middle\"><a href=\"javascript:open_win(\\'/h/kimosel.php\\',\\'twstock_other_list_menu\\',\\'stock_id\\',\\'stock_name\\')\"><font size=\"-1\">\\u80a1\\u7968\\u4ee3\\u865f/\\u540d\\u7a31</font></a>\\n   <input type=text name=\"stock_id\" size=\"5\" value=\"2451\">\\n          <select name=\"func\" size=\"1\" onChange=\"submit();\">\\n            <option VALUE=\"G\" SELECTED>\\uff0d\\uff0d\\u7576\\u65e5\\u500b\\u80a1\\u80a1\\u50f9\\uff0d\\uff0d</option>\\n            <option VALUE=\"L\">\\uff0d\\uff0d\\u7576\\u65e5\\u500b\\u80a1\\u8d70\\u52e2\\uff0d\\uff0d</option>\\n            <option VALUE=\"I\">\\uff0d\\uff0d\\u500b\\u80a1\\u6210\\u4ea4\\u660e\\u7d30\\uff0d\\uff0d</option>\\n\\t    <option VALUE=\"N\">\\uff0d\\uff0d\\u500b\\u80a1\\u65b0\\u805e\\uff0d\\uff0d</option>\\n            <option VALUE=\"H\">\\uff0d\\uff0d\\u500b\\u80a1\\u5065\\u8a3a\\uff0d\\uff0d</option>\\n\\t    <option VALUE=\"F\">\\uff0d\\uff0d\\u516c\\u53f8\\u57fa\\u672c\\u8cc7\\u6599\\uff0d\\uff0d</option>\\n\\t    <option VALUE=\"C\">\\uff0d\\uff0d\\u500b\\u80a1\\u7c4c\\u78bc\\u5206\\u6790\\uff0d\\uff0d</option>\\n            <option VALUE=\"T\">\\uff0d\\uff0d\\u6b77\\u53f2\\u80a1\\u50f9\\uff2b\\u7dda\\u5716\\uff0d</option>\\n          </select>\\u3000<input type=\"submit\" value=\"\\u67e5\\u8a62\"> <INPUT TYPE=\"button\" name=\"reload\" value=\"\\u66f4\\u65b0\" onClick=\"location.reload()\"><font size=\"-1\">\\n <a HREF=\"https://tw.help.yahoo.com/kb/helpcentral\">\\u5e38\\u898b\\u554f\\u984c</a></font>\\n</td></form>\\n      </tr>\\n    </table>\\n    </td>\\n  </tr>\\n</table>\\n</center>\\n<!---------------------quary bar end-------------------->\\n\\n\\n<!---------------------content start-------------------->\\n<center>\\n\\n  <table width=\"630\" border=\"0\" cellspacing=\"0\" cellpadding=\"3\">\\n      <tr class=\"yui-stock-genpage-pright\"> \\n      <td width=\"630\" align=\"left\" colspan=\"2\"><font color=\"#F70000\"><b>2451\\u5275\\u898b</b></font>\\n     <a href=\"/q/q_2451.html\" class=\"bg\">\\u8d70\\u52e2\\u5716</a>\\n     <a href=\"/q/t/2451.html\" class=\"bg\">\\u6210\\u4ea4\\u660e\\u7d30</a>\\n     <a href=\"/t/d/k_2451.html\">\\u6280\\u8853\\u5206\\u6790</a>\\n              <a href=\"/n/j/2451/h.html\">\\u65b0\\u805e</a>\\n                   <a href=\"/d/s/company_2451.html\">\\u57fa\\u672c\\u8cc7\\u6599</a>\\n                   <span>\\u7c4c\\u78bc\\u5206\\u6790</span>\\n          \\t <a target=\\'_blank\\' href=\\'https://tw.rd.yahoo.com/referurl/stock/other/SIG=125v47s73/**https://tw.screener.finance.yahoo.net/screener/check.html?symid=2451\\'>\\u500b\\u80a1\\u5065\\u8a3a</a>\\n         <a target=\\'_blank\\' class=\\'last\\' style=\\'color:red\\' href=\\'https://tw.money.yahoo.com\\'>\\u65b0\\u7248\\u7406\\u8ca1</a>\\n      </td>\\n    </tr>\\n    <tr > \\n         <td width=\"630\" ><img src=\"/p/1.gif\" class=\"yui-stock-genpage-img\" width=\"630\" height=\"1\"></td>\\n    </tr>\\n    <tr> \\n      <td class=\"tt yui-td-left\" height=\"18\">\\u4e3b\\u529b\\u9032\\u51fa\\u3000<a href=credit_2451.html>\\u8cc7\\u5238\\u8b8a\\u5316</a>\\u3000\\u3000\\u3000\\u3000\\u3000\\u3000\\u3000\\u3000\\u3000\\u3000\\u3000\\u3000\\u3000\\u3000\\u3000\\u3000\\u3000\\u3000\\u3000\\u3000\\u3000\\u3000\\u3000\\u3000\\u3000\\u3000</td>\\n    </tr>\\n  </table>\\n</center>\\n\\n<table width=\"630\" border=\"0\" cellspacing=\"0\" cellpadding=\"0\" align=\"center\">\\n <tr bgcolor=\"#FEC003\">   \\n <td colspan=\"2\"> \\n        <table border=\"0\" width=\"100%\" cellpadding=\"2\" height=\"23\">\\n          <tr>\\n            <td width=\"180\" align=\"left\" class=\"tt\">\\u8cc7\\u6599\\u65e5\\u671f\\uff1a103 /12 /01 \\n            </td> \\n            <td width=\"240\" align=\"center\" class=\"ttt\">\\u500b \\u80a1 \\u7576 \\u65e5 \\u4e3b \\u529b \\u9032 \\u51fa</td>\\n  <td width=\"180\" align=\"right\" class=\"tt\">\\u55ae\\u4f4d\\uff1a\\u5f35\\u6578\\n            </td></tr>\\n        </table>\\n <table width=\"100%\" border=\"0\" cellspacing=\"1\" cellpadding=\"3\">\\n          <tr bgcolor=\"#FFF0C1\"> \\n          <td class=\"ttt\" align=\"center\">\\u8cb7\\u8d85\\u5238\\u5546</td>\\n          <td class=\"ttt\" align=\"center\">\\u8cb7\\u9032</td>\\n          <td class=\"ttt\" align=\"center\">\\u8ce3\\u51fa</td>\\n          <td class=\"ttt\" align=\"center\">\\u8cb7\\u8d85</td>\\n          <td class=\"ttt\" align=\"center\">\\u8ce3\\u8d85\\u5238\\u5546</td>\\n          <td class=\"ttt\" align=\"center\">\\u8cb7\\u9032</td>\\n          <td class=\"ttt\" align=\"center\">\\u8ce3\\u51fa</td>\\n     <td class=\"ttt\" align=\"center\">\\u8ce3\\u8d85</td>\\n        </tr>\\n            <tr bgcolor=\"#FFFFFF\">                                      \\n          <td class=\"ttt\" align=\"center\">\\u5bcc\\u90a6\\u8b49\\u5238   </td>\\n          <td class=\"ttt\" align=\"center\">61 </td>\\n          <td class=\"ttt\" align=\"center\">6 </td>\\n          <td class=\"ttt\" align=\"center\">+55 </td>\\n          <td class=\"ttt\" align=\"center\">\\u6c38\\u8c50\\u91d1\\u8b49\\u5238 </td>\\n          <td class=\"ttt\" align=\"center\">7 </td>\\n          <td class=\"ttt\" align=\"center\">107 </td>\\n          <td class=\"ttt\" align=\"center\">-100 </td>\\n          </tr>\\n                  <tr bgcolor=\"#FFFFFF\">                                      \\n          <td class=\"ttt\" align=\"center\">\\u65b0\\u52a0\\u5761\\u5546\\u745e </td>\\n          <td class=\"ttt\" align=\"center\">44 </td>\\n          <td class=\"ttt\" align=\"center\">1 </td>\\n          <td class=\"ttt\" align=\"center\">+43 </td>\\n          <td class=\"ttt\" align=\"center\">\\u6e2f\\u5546\\u9ea5\\u683c\\u91cc </td>\\n          <td class=\"ttt\" align=\"center\">0 </td>\\n          <td class=\"ttt\" align=\"center\">66 </td>\\n          <td class=\"ttt\" align=\"center\">-66 </td>\\n          </tr>\\n                  <tr bgcolor=\"#FFFFFF\">                                      \\n          <td class=\"ttt\" align=\"center\">\\u7fa4\\u76ca\\u91d1\\u9f0e   </td>\\n          <td class=\"ttt\" align=\"center\">24 </td>\\n          <td class=\"ttt\" align=\"center\">0 </td>\\n          <td class=\"ttt\" align=\"center\">+24 </td>\\n          <td class=\"ttt\" align=\"center\">\\u5146\\u8c50\\u8b49\\u5238   </td>\\n          <td class=\"ttt\" align=\"center\">25 </td>\\n          <td class=\"ttt\" align=\"center\">63 </td>\\n          <td class=\"ttt\" align=\"center\">-38 </td>\\n          </tr>\\n                  <tr bgcolor=\"#FFFFFF\">                                      \\n          <td class=\"ttt\" align=\"center\">\\u570b\\u7968\\u8b49\\u5238   </td>\\n          <td class=\"ttt\" align=\"center\">20 </td>\\n          <td class=\"ttt\" align=\"center\">1 </td>\\n          <td class=\"ttt\" align=\"center\">+19 </td>\\n          <td class=\"ttt\" align=\"center\">\\u745e\\u58eb\\u4fe1\\u8cb8   </td>\\n          <td class=\"ttt\" align=\"center\">0 </td>\\n          <td class=\"ttt\" align=\"center\">27 </td>\\n          <td class=\"ttt\" align=\"center\">-27 </td>\\n          </tr>\\n                  <tr bgcolor=\"#FFFFFF\">                                      \\n          <td class=\"ttt\" align=\"center\">\\u51f1\\u57fa\\u8b49\\u5238   </td>\\n          <td class=\"ttt\" align=\"center\">27 </td>\\n          <td class=\"ttt\" align=\"center\">9 </td>\\n          <td class=\"ttt\" align=\"center\">+18 </td>\\n          <td class=\"ttt\" align=\"center\">\\u53f0\\u7063\\u6469\\u6839\\u58eb </td>\\n          <td class=\"ttt\" align=\"center\">75 </td>\\n          <td class=\"ttt\" align=\"center\">88 </td>\\n          <td class=\"ttt\" align=\"center\">-13 </td>\\n          </tr>\\n                  <tr bgcolor=\"#FFFFFF\">                                      \\n          <td class=\"ttt\" align=\"center\">\\u65e5\\u76db\\u8b49\\u5238   </td>\\n          <td class=\"ttt\" align=\"center\">17 </td>\\n          <td class=\"ttt\" align=\"center\">2 </td>\\n          <td class=\"ttt\" align=\"center\">+15 </td>\\n          <td class=\"ttt\" align=\"center\">\\u6cd5\\u9280\\u5df4\\u9ece   </td>\\n          <td class=\"ttt\" align=\"center\">0 </td>\\n          <td class=\"ttt\" align=\"center\">9 </td>\\n          <td class=\"ttt\" align=\"center\">-9 </td>\\n          </tr>\\n                  <tr bgcolor=\"#FFFFFF\">                                      \\n          <td class=\"ttt\" align=\"center\">\\u7f8e\\u5546\\u9ad8\\u76db   </td>\\n          <td class=\"ttt\" align=\"center\">54 </td>\\n          <td class=\"ttt\" align=\"center\">40 </td>\\n          <td class=\"ttt\" align=\"center\">+14 </td>\\n          <td class=\"ttt\" align=\"center\">\\u6e2f\\u5546\\u6cd5\\u570b\\u8208 </td>\\n          <td class=\"ttt\" align=\"center\">4 </td>\\n          <td class=\"ttt\" align=\"center\">7 </td>\\n          <td class=\"ttt\" align=\"center\">-3 </td>\\n          </tr>\\n                  <tr bgcolor=\"#FFFFFF\">                                      \\n          <td class=\"ttt\" align=\"center\">\\u81fa\\u9280       </td>\\n          <td class=\"ttt\" align=\"center\">14 </td>\\n          <td class=\"ttt\" align=\"center\">5 </td>\\n          <td class=\"ttt\" align=\"center\">+9 </td>\\n          <td class=\"ttt\" align=\"center\">\\u570b\\u6cf0\\u8b49\\u5238   </td>\\n          <td class=\"ttt\" align=\"center\">4 </td>\\n          <td class=\"ttt\" align=\"center\">6 </td>\\n          <td class=\"ttt\" align=\"center\">-2 </td>\\n          </tr>\\n                  <tr bgcolor=\"#FFFFFF\">                                      \\n          <td class=\"ttt\" align=\"center\">\\u7389\\u5c71\\u8b49\\u5238   </td>\\n          <td class=\"ttt\" align=\"center\">9 </td>\\n          <td class=\"ttt\" align=\"center\">2 </td>\\n          <td class=\"ttt\" align=\"center\">+7 </td>\\n          <td class=\"ttt\" align=\"center\">\\u4e9e\\u6771       </td>\\n          <td class=\"ttt\" align=\"center\">0 </td>\\n          <td class=\"ttt\" align=\"center\">1 </td>\\n          <td class=\"ttt\" align=\"center\">-1 </td>\\n          </tr>\\n                  <tr bgcolor=\"#FFFFFF\">                                      \\n          <td class=\"ttt\" align=\"center\">\\u5143\\u5bcc       </td>\\n          <td class=\"ttt\" align=\"center\">8 </td>\\n          <td class=\"ttt\" align=\"center\">1 </td>\\n          <td class=\"ttt\" align=\"center\">+7 </td>\\n          <td class=\"ttt\" align=\"center\">\\u6e2f\\u5546\\u5fb7\\u610f\\u5fd7 </td>\\n          <td class=\"ttt\" align=\"center\">9 </td>\\n          <td class=\"ttt\" align=\"center\">10 </td>\\n          <td class=\"ttt\" align=\"center\">-1 </td>\\n          </tr>\\n                  <tr bgcolor=\"#FFFFFF\">                                      \\n          <td class=\"ttt\" align=\"center\">\\u65b0\\u5149\\u8b49\\u5238   </td>\\n          <td class=\"ttt\" align=\"center\">10 </td>\\n          <td class=\"ttt\" align=\"center\">4 </td>\\n          <td class=\"ttt\" align=\"center\">+6 </td>\\n          <td class=\"ttt\" align=\"center\">\\u6469\\u6839\\u5927\\u901a   </td>\\n          <td class=\"ttt\" align=\"center\">0 </td>\\n          <td class=\"ttt\" align=\"center\">1 </td>\\n          <td class=\"ttt\" align=\"center\">-1 </td>\\n          </tr>\\n                  <tr bgcolor=\"#FFFFFF\">                                      \\n          <td class=\"ttt\" align=\"center\">\\u7f8e\\u6797       </td>\\n          <td class=\"ttt\" align=\"center\">6 </td>\\n          <td class=\"ttt\" align=\"center\">0 </td>\\n          <td class=\"ttt\" align=\"center\">+6 </td>\\n          <td class=\"ttt\" align=\"center\">\\u53f0\\u7063\\u6771\\u65b9\\u532f </td>\\n          <td class=\"ttt\" align=\"center\">0 </td>\\n          <td class=\"ttt\" align=\"center\">0 </td>\\n          <td class=\"ttt\" align=\"center\">0 </td>\\n          </tr>\\n                  <tr bgcolor=\"#FFFFFF\">                                      \\n          <td class=\"ttt\" align=\"center\">\\u7d71\\u4e00       </td>\\n          <td class=\"ttt\" align=\"center\">8 </td>\\n          <td class=\"ttt\" align=\"center\">3 </td>\\n          <td class=\"ttt\" align=\"center\">+5 </td>\\n          <td class=\"ttt\" align=\"center\">\\u65e5\\u8302       </td>\\n          <td class=\"ttt\" align=\"center\">0 </td>\\n          <td class=\"ttt\" align=\"center\">0 </td>\\n          <td class=\"ttt\" align=\"center\">0 </td>\\n          </tr>\\n                  <tr bgcolor=\"#FFFFFF\">                                      \\n          <td class=\"ttt\" align=\"center\">\\u7b2c\\u4e00\\u91d1     </td>\\n          <td class=\"ttt\" align=\"center\">5 </td>\\n          <td class=\"ttt\" align=\"center\">0 </td>\\n          <td class=\"ttt\" align=\"center\">+5 </td>\\n          <td class=\"ttt\" align=\"center\">\\u5168\\u6cf0\\u8b49\\u5238   </td>\\n          <td class=\"ttt\" align=\"center\">0 </td>\\n          <td class=\"ttt\" align=\"center\">0 </td>\\n          <td class=\"ttt\" align=\"center\">0 </td>\\n          </tr>\\n                  <tr bgcolor=\"#FFFFFF\">                                      \\n          <td class=\"ttt\" align=\"center\">\\u5eb7\\u548c\\u8b49\\u5238   </td>\\n          <td class=\"ttt\" align=\"center\">11 </td>\\n          <td class=\"ttt\" align=\"center\">7 </td>\\n          <td class=\"ttt\" align=\"center\">+4 </td>\\n          <td class=\"ttt\" align=\"center\">\\u91d1\\u6e2f\\u8b49\\u5238   </td>\\n          <td class=\"ttt\" align=\"center\">0 </td>\\n          <td class=\"ttt\" align=\"center\">0 </td>\\n          <td class=\"ttt\" align=\"center\">0 </td>\\n          </tr>\\n          </table>\\n    </td>\\n  </tr>\\n</table>\\n<!---------------------content end-------------------->\\n<table border=\"0\" align=\"center\" cellPadding=\"0\" cellSpacing=\"0\" width=\"750\" >\\n  <tr>\\n    <td height=\"90\" valign=\"bottom\">\\n      <DIV id=yhtw_mastfoot>\\n<!-- SpaceID=0 robot -->\\n<DIV class=\"other\">\\u5609\\u5be6\\u8cc7\\u8a0a\\u3000\\u7248\\u6b0a\\u6240\\u6709 &copy; 2014 SysJust Co., LTD.  All Rights Reserved.</DIV>\\n<div class=\"other\">\\n\\u500b\\u80a1\\u57fa\\u672c\\u8cc7\\u6599\\u53ca\\u76e4\\u5f8c\\u8cc7\\u8a0a\\u7531<a href=\"https://tw.rd.yahoo.com/referurl/stock/provider/sysjust/footer/SIG=11231m527/**http%3A%2F%2Fwww.moneydj.com%2F\">\\u5609\\u5be6\\u8cc7\\u8a0a</a>\\u63d0\\u4f9b\\uff0c\\u672c\\u8cc7\\u6599\\u50c5\\u4f9b\\u53c3\\u8003,\\n\\u4f7f\\u7528\\u8005\\u4f9d\\u672c\\u8cc7\\u6599\\u4ea4\\u6613\\u767c\\u751f\\u4ea4\\u6613\\u640d\\u5931\\u9700\\u81ea\\u884c\\u8ca0\\u8cac\\uff0cYahoo!\\u5947\\u6469\\u5c0d\\u8cc7\\u6599\\u5167\\u5bb9\\u932f\\u8aa4\\u3001\\u66f4\\u65b0\\u5ef6\\u8aa4\\u6216\\u50b3\\u8f38\\u4e2d\\u65b7\\u4e0d\\u8ca0\\u4efb\\u4f55\\u8cac\\u4efb\\u3002\\uff08\\u8acb\\u770bYahoo!\\u5947\\u6469\\u4e4b<a href=\"https://tw.info.yahoo.com/ann/disclaimers.html\">\\u514d\\u8cac\\u689d\\u6b3e</a>\\uff09\\n</div>\\n  </tr>\\n</table>\\n<!-- (begin) Yahoo! Web Analytics -->\\n<script type=\"text/javascript\" src=\"https://s.yimg.com/mi/apac/ywa.js\"></script> \\n<div id=\"ywa-data\" style=\"display:none;\" docgroup=\"\" docname=\"\"></div>\\n<script type=\"text/javascript\" src=\"https://s.yimg.com/f/i/tw/stock/ywa_tracker.js\"></script>\\n<noscript>\\n<div><img src=\"https://apac.analytics.yahoo.com/p.pl?a=1000934693535&js=no\" width=\"1\" height=\"1\" alt=\"\" /></div>\\n</noscript>\\n<!-- (end) Yahoo! Web Analytics -->\\n<script type=\"text/javascript\" src=\"https://s.yimg.com/f/i/tw/house/frame_check_20140305_min.js\"></script>\\n</body>\\n<script src=\"https://s.yimg.com/f/i/tw/mb/universal_header/uh_tw_v11.js\" type=\"text/javascript\"></script>\\n<!-- Begin comScore Tag -->\\n<script>\\n  var _comscore = _comscore || [];\\n  _comscore.push({\\n    c1: \"2\",\\n    c2: \"7241469\",\\n    c5: \"152952227\",\\n    c7: \"https%3A%2F%2Ftw.stock.yahoo.com%2Fd%2Fs%2Fmajor_2451.html\"\\n  });\\n  (function() {\\n    var s = document.createElement(\"script\"), el = document.getElementsByTagName(\"script\")[0]; s.async = true;\\n    s.src = (document.location.protocol == \"https:\" ? \"https://s.yimg.com/lq\" : \"http://l.yimg.com/d\") + \"/lib/3pm/cs_0.2.js\";\\n    el.parentNode.insertBefore(s, el);\\n  })();\\n</script>\\n<noscript><img src=\"https://sb.scorecardresearch.com/p?c1=2&c2=7241469&c7=https%3A%2F%2Ftw.stock.yahoo.com%2Fd%2Fs%2Fmajor_2451.html&c5=152952227&cv=2.0&cj=1\" width=\"1\" height=\"1\" alt=\"\"/></noscript>\\n<!-- End comScore Tag -->\\n</html>\\n\\n<!-- w151.finance.tw1.yahoo.com compressed/chunked Tue Dec  2 14:25:59 CST 2014 -->\\n'"
       ]
      }
     ],
     "prompt_number": 57
    },
    {
     "cell_type": "markdown",
     "metadata": {},
     "source": [
      "\u8a18\u5f97, \u7db2\u9801\u7684\u7de8\u78bc\u6c38\u9060\u90fd\u662f\u4e00\u500b\u91cd\u5927\u8b70\u984c...\n",
      "\n",
      "\u6211\u5011\u53ef\u4ee5\u7528 encoding \u5c6c\u6027\u6aa2\u67e5\u6a19\u78bc\u3002"
     ]
    },
    {
     "cell_type": "code",
     "collapsed": false,
     "input": [
      "res.encoding"
     ],
     "language": "python",
     "metadata": {},
     "outputs": [
      {
       "metadata": {},
       "output_type": "pyout",
       "prompt_number": 58,
       "text": [
        "'Big5'"
       ]
      }
     ],
     "prompt_number": 58
    },
    {
     "cell_type": "markdown",
     "metadata": {},
     "source": [
      "### pandas \n",
      "\n",
      "\u628a\u6211\u5011\u53ef\u611b\u7684\u718a\u8c93\u53eb\u9032\u4f86\u3002\u9019\u662f\u6211\u5011\u8981\u6574\u7406\u7db2\u8def\u8cc7\u6599\u7684\u4e3b\u8981\u5de5\u5177\u3002"
     ]
    },
    {
     "cell_type": "code",
     "collapsed": false,
     "input": [
      "import pandas as pd"
     ],
     "language": "python",
     "metadata": {},
     "outputs": [],
     "prompt_number": 59
    },
    {
     "cell_type": "code",
     "collapsed": false,
     "input": [
      "dfs = pd.read_html(res.text)"
     ],
     "language": "python",
     "metadata": {},
     "outputs": [],
     "prompt_number": 60
    },
    {
     "cell_type": "markdown",
     "metadata": {},
     "source": [
      "### \u627e\u51fa\u6211\u5011\u8981\u7684 table!"
     ]
    },
    {
     "cell_type": "markdown",
     "metadata": {},
     "source": [
      "\u5728 dfs \u88e1, \u6709\u5f88\u591a tables, \u5230\u5e95\u662f\u6709\u5e7e\u500b\u5462?"
     ]
    },
    {
     "cell_type": "code",
     "collapsed": false,
     "input": [
      "len(dfs) # \u6709\u591a\u5c11\u500b table"
     ],
     "language": "python",
     "metadata": {},
     "outputs": [
      {
       "metadata": {},
       "output_type": "pyout",
       "prompt_number": 61,
       "text": [
        "11"
       ]
      }
     ],
     "prompt_number": 61
    },
    {
     "cell_type": "markdown",
     "metadata": {},
     "source": [
      "\u54ea\u500b\u624d\u662f\u6709\u80a1\u7968\u8cc7\u8a0a\u7684\u554a? \u6211\u5011\u4f86\u770b\u770b\u6bcf\u4e00\u500b\u5927\u5c0f..."
     ]
    },
    {
     "cell_type": "code",
     "collapsed": false,
     "input": [
      "map(lambda xx:xx.shape, dfs)"
     ],
     "language": "python",
     "metadata": {},
     "outputs": [
      {
       "metadata": {},
       "output_type": "pyout",
       "prompt_number": 62,
       "text": [
        "[(1, 2),\n",
        " (6, 12),\n",
        " (1, 11),\n",
        " (1, 6),\n",
        " (2, 2),\n",
        " (1, 1),\n",
        " (2, 1),\n",
        " (18, 132),\n",
        " (1, 3),\n",
        " (16, 8),\n",
        " (1, 1)]"
       ]
      }
     ],
     "prompt_number": 62
    },
    {
     "cell_type": "markdown",
     "metadata": {},
     "source": [
      "\u5012\u5e95\u9019 dfs \u662f\u4ec0\u9ebc\u8cc7\u6599\u578b\u614b?"
     ]
    },
    {
     "cell_type": "code",
     "collapsed": false,
     "input": [
      "type(dfs)"
     ],
     "language": "python",
     "metadata": {},
     "outputs": [
      {
       "metadata": {},
       "output_type": "pyout",
       "prompt_number": 63,
       "text": [
        "list"
       ]
      }
     ],
     "prompt_number": 63
    },
    {
     "cell_type": "markdown",
     "metadata": {},
     "source": [
      "\u61c9\u8a72\u5012\u6578\u7b2c\u4e8c\u500b\u662f\u6211\u5011\u8981\u7684..."
     ]
    },
    {
     "cell_type": "code",
     "collapsed": false,
     "input": [
      "dfs[-2]"
     ],
     "language": "python",
     "metadata": {},
     "outputs": [
      {
       "html": [
        "<div style=\"max-height:1000px;max-width:1500px;overflow:auto;\">\n",
        "<table border=\"1\" class=\"dataframe\">\n",
        "  <thead>\n",
        "    <tr style=\"text-align: right;\">\n",
        "      <th></th>\n",
        "      <th>0</th>\n",
        "      <th>1</th>\n",
        "      <th>2</th>\n",
        "      <th>3</th>\n",
        "      <th>4</th>\n",
        "      <th>5</th>\n",
        "      <th>6</th>\n",
        "      <th>7</th>\n",
        "    </tr>\n",
        "  </thead>\n",
        "  <tbody>\n",
        "    <tr>\n",
        "      <th>0 </th>\n",
        "      <td>  \u8cb7\u8d85\u5238\u5546</td>\n",
        "      <td> \u8cb7\u9032</td>\n",
        "      <td> \u8ce3\u51fa</td>\n",
        "      <td>  \u8cb7\u8d85</td>\n",
        "      <td>  \u8ce3\u8d85\u5238\u5546</td>\n",
        "      <td> \u8cb7\u9032</td>\n",
        "      <td>  \u8ce3\u51fa</td>\n",
        "      <td>   \u8ce3\u8d85</td>\n",
        "    </tr>\n",
        "    <tr>\n",
        "      <th>1 </th>\n",
        "      <td>  \u5bcc\u90a6\u8b49\u5238</td>\n",
        "      <td> 61</td>\n",
        "      <td>  6</td>\n",
        "      <td> +55</td>\n",
        "      <td> \u6c38\u8c50\u91d1\u8b49\u5238</td>\n",
        "      <td>  7</td>\n",
        "      <td> 107</td>\n",
        "      <td> -100</td>\n",
        "    </tr>\n",
        "    <tr>\n",
        "      <th>2 </th>\n",
        "      <td> \u65b0\u52a0\u5761\u5546\u745e</td>\n",
        "      <td> 44</td>\n",
        "      <td>  1</td>\n",
        "      <td> +43</td>\n",
        "      <td> \u6e2f\u5546\u9ea5\u683c\u91cc</td>\n",
        "      <td>  0</td>\n",
        "      <td>  66</td>\n",
        "      <td>  -66</td>\n",
        "    </tr>\n",
        "    <tr>\n",
        "      <th>3 </th>\n",
        "      <td>  \u7fa4\u76ca\u91d1\u9f0e</td>\n",
        "      <td> 24</td>\n",
        "      <td>  0</td>\n",
        "      <td> +24</td>\n",
        "      <td>  \u5146\u8c50\u8b49\u5238</td>\n",
        "      <td> 25</td>\n",
        "      <td>  63</td>\n",
        "      <td>  -38</td>\n",
        "    </tr>\n",
        "    <tr>\n",
        "      <th>4 </th>\n",
        "      <td>  \u570b\u7968\u8b49\u5238</td>\n",
        "      <td> 20</td>\n",
        "      <td>  1</td>\n",
        "      <td> +19</td>\n",
        "      <td>  \u745e\u58eb\u4fe1\u8cb8</td>\n",
        "      <td>  0</td>\n",
        "      <td>  27</td>\n",
        "      <td>  -27</td>\n",
        "    </tr>\n",
        "    <tr>\n",
        "      <th>5 </th>\n",
        "      <td>  \u51f1\u57fa\u8b49\u5238</td>\n",
        "      <td> 27</td>\n",
        "      <td>  9</td>\n",
        "      <td> +18</td>\n",
        "      <td> \u53f0\u7063\u6469\u6839\u58eb</td>\n",
        "      <td> 75</td>\n",
        "      <td>  88</td>\n",
        "      <td>  -13</td>\n",
        "    </tr>\n",
        "    <tr>\n",
        "      <th>6 </th>\n",
        "      <td>  \u65e5\u76db\u8b49\u5238</td>\n",
        "      <td> 17</td>\n",
        "      <td>  2</td>\n",
        "      <td> +15</td>\n",
        "      <td>  \u6cd5\u9280\u5df4\u9ece</td>\n",
        "      <td>  0</td>\n",
        "      <td>   9</td>\n",
        "      <td>   -9</td>\n",
        "    </tr>\n",
        "    <tr>\n",
        "      <th>7 </th>\n",
        "      <td>  \u7f8e\u5546\u9ad8\u76db</td>\n",
        "      <td> 54</td>\n",
        "      <td> 40</td>\n",
        "      <td> +14</td>\n",
        "      <td> \u6e2f\u5546\u6cd5\u570b\u8208</td>\n",
        "      <td>  4</td>\n",
        "      <td>   7</td>\n",
        "      <td>   -3</td>\n",
        "    </tr>\n",
        "    <tr>\n",
        "      <th>8 </th>\n",
        "      <td>    \u81fa\u9280</td>\n",
        "      <td> 14</td>\n",
        "      <td>  5</td>\n",
        "      <td>  +9</td>\n",
        "      <td>  \u570b\u6cf0\u8b49\u5238</td>\n",
        "      <td>  4</td>\n",
        "      <td>   6</td>\n",
        "      <td>   -2</td>\n",
        "    </tr>\n",
        "    <tr>\n",
        "      <th>9 </th>\n",
        "      <td>  \u7389\u5c71\u8b49\u5238</td>\n",
        "      <td>  9</td>\n",
        "      <td>  2</td>\n",
        "      <td>  +7</td>\n",
        "      <td>    \u4e9e\u6771</td>\n",
        "      <td>  0</td>\n",
        "      <td>   1</td>\n",
        "      <td>   -1</td>\n",
        "    </tr>\n",
        "    <tr>\n",
        "      <th>10</th>\n",
        "      <td>    \u5143\u5bcc</td>\n",
        "      <td>  8</td>\n",
        "      <td>  1</td>\n",
        "      <td>  +7</td>\n",
        "      <td> \u6e2f\u5546\u5fb7\u610f\u5fd7</td>\n",
        "      <td>  9</td>\n",
        "      <td>  10</td>\n",
        "      <td>   -1</td>\n",
        "    </tr>\n",
        "    <tr>\n",
        "      <th>11</th>\n",
        "      <td>  \u65b0\u5149\u8b49\u5238</td>\n",
        "      <td> 10</td>\n",
        "      <td>  4</td>\n",
        "      <td>  +6</td>\n",
        "      <td>  \u6469\u6839\u5927\u901a</td>\n",
        "      <td>  0</td>\n",
        "      <td>   1</td>\n",
        "      <td>   -1</td>\n",
        "    </tr>\n",
        "    <tr>\n",
        "      <th>12</th>\n",
        "      <td>    \u7f8e\u6797</td>\n",
        "      <td>  6</td>\n",
        "      <td>  0</td>\n",
        "      <td>  +6</td>\n",
        "      <td> \u53f0\u7063\u6771\u65b9\u532f</td>\n",
        "      <td>  0</td>\n",
        "      <td>   0</td>\n",
        "      <td>    0</td>\n",
        "    </tr>\n",
        "    <tr>\n",
        "      <th>13</th>\n",
        "      <td>    \u7d71\u4e00</td>\n",
        "      <td>  8</td>\n",
        "      <td>  3</td>\n",
        "      <td>  +5</td>\n",
        "      <td>    \u65e5\u8302</td>\n",
        "      <td>  0</td>\n",
        "      <td>   0</td>\n",
        "      <td>    0</td>\n",
        "    </tr>\n",
        "    <tr>\n",
        "      <th>14</th>\n",
        "      <td>   \u7b2c\u4e00\u91d1</td>\n",
        "      <td>  5</td>\n",
        "      <td>  0</td>\n",
        "      <td>  +5</td>\n",
        "      <td>  \u5168\u6cf0\u8b49\u5238</td>\n",
        "      <td>  0</td>\n",
        "      <td>   0</td>\n",
        "      <td>    0</td>\n",
        "    </tr>\n",
        "    <tr>\n",
        "      <th>15</th>\n",
        "      <td>  \u5eb7\u548c\u8b49\u5238</td>\n",
        "      <td> 11</td>\n",
        "      <td>  7</td>\n",
        "      <td>  +4</td>\n",
        "      <td>  \u91d1\u6e2f\u8b49\u5238</td>\n",
        "      <td>  0</td>\n",
        "      <td>   0</td>\n",
        "      <td>    0</td>\n",
        "    </tr>\n",
        "  </tbody>\n",
        "</table>\n",
        "</div>"
       ],
       "metadata": {},
       "output_type": "pyout",
       "prompt_number": 64,
       "text": [
        "        0   1   2    3      4   5    6     7\n",
        "0    \u8cb7\u8d85\u5238\u5546  \u8cb7\u9032  \u8ce3\u51fa   \u8cb7\u8d85   \u8ce3\u8d85\u5238\u5546  \u8cb7\u9032   \u8ce3\u51fa    \u8ce3\u8d85\n",
        "1    \u5bcc\u90a6\u8b49\u5238  61   6  +55  \u6c38\u8c50\u91d1\u8b49\u5238   7  107  -100\n",
        "2   \u65b0\u52a0\u5761\u5546\u745e  44   1  +43  \u6e2f\u5546\u9ea5\u683c\u91cc   0   66   -66\n",
        "3    \u7fa4\u76ca\u91d1\u9f0e  24   0  +24   \u5146\u8c50\u8b49\u5238  25   63   -38\n",
        "4    \u570b\u7968\u8b49\u5238  20   1  +19   \u745e\u58eb\u4fe1\u8cb8   0   27   -27\n",
        "5    \u51f1\u57fa\u8b49\u5238  27   9  +18  \u53f0\u7063\u6469\u6839\u58eb  75   88   -13\n",
        "6    \u65e5\u76db\u8b49\u5238  17   2  +15   \u6cd5\u9280\u5df4\u9ece   0    9    -9\n",
        "7    \u7f8e\u5546\u9ad8\u76db  54  40  +14  \u6e2f\u5546\u6cd5\u570b\u8208   4    7    -3\n",
        "8      \u81fa\u9280  14   5   +9   \u570b\u6cf0\u8b49\u5238   4    6    -2\n",
        "9    \u7389\u5c71\u8b49\u5238   9   2   +7     \u4e9e\u6771   0    1    -1\n",
        "10     \u5143\u5bcc   8   1   +7  \u6e2f\u5546\u5fb7\u610f\u5fd7   9   10    -1\n",
        "11   \u65b0\u5149\u8b49\u5238  10   4   +6   \u6469\u6839\u5927\u901a   0    1    -1\n",
        "12     \u7f8e\u6797   6   0   +6  \u53f0\u7063\u6771\u65b9\u532f   0    0     0\n",
        "13     \u7d71\u4e00   8   3   +5     \u65e5\u8302   0    0     0\n",
        "14    \u7b2c\u4e00\u91d1   5   0   +5   \u5168\u6cf0\u8b49\u5238   0    0     0\n",
        "15   \u5eb7\u548c\u8b49\u5238  11   7   +4   \u91d1\u6e2f\u8b49\u5238   0    0     0"
       ]
      }
     ],
     "prompt_number": 64
    },
    {
     "cell_type": "markdown",
     "metadata": {},
     "source": [
      "### \u91cd\u9ede\n",
      "\n",
      "\u4e0d\u662f\u6bcf\u652f\u80a1\u7968\u90fd\u662f -2 \u9019\u500b\u4f4d\u7f6e, \u6240\u4ee5\u6bd4\u8f03\u597d\u7684\u505a\u6cd5\u662f\u627e\u51fa\u6709 8 \u884c\u7684\u90a3\u500b table\u3002"
     ]
    },
    {
     "cell_type": "code",
     "collapsed": false,
     "input": [
      "data_dfs = [xx for xx in dfs if xx.shape[1] == 8]\n",
      "data_df = data_dfs[0]"
     ],
     "language": "python",
     "metadata": {},
     "outputs": [],
     "prompt_number": 65
    },
    {
     "cell_type": "code",
     "collapsed": false,
     "input": [
      "data_df"
     ],
     "language": "python",
     "metadata": {},
     "outputs": [
      {
       "html": [
        "<div style=\"max-height:1000px;max-width:1500px;overflow:auto;\">\n",
        "<table border=\"1\" class=\"dataframe\">\n",
        "  <thead>\n",
        "    <tr style=\"text-align: right;\">\n",
        "      <th></th>\n",
        "      <th>0</th>\n",
        "      <th>1</th>\n",
        "      <th>2</th>\n",
        "      <th>3</th>\n",
        "      <th>4</th>\n",
        "      <th>5</th>\n",
        "      <th>6</th>\n",
        "      <th>7</th>\n",
        "    </tr>\n",
        "  </thead>\n",
        "  <tbody>\n",
        "    <tr>\n",
        "      <th>0 </th>\n",
        "      <td>  \u8cb7\u8d85\u5238\u5546</td>\n",
        "      <td> \u8cb7\u9032</td>\n",
        "      <td> \u8ce3\u51fa</td>\n",
        "      <td>  \u8cb7\u8d85</td>\n",
        "      <td>  \u8ce3\u8d85\u5238\u5546</td>\n",
        "      <td> \u8cb7\u9032</td>\n",
        "      <td>  \u8ce3\u51fa</td>\n",
        "      <td>   \u8ce3\u8d85</td>\n",
        "    </tr>\n",
        "    <tr>\n",
        "      <th>1 </th>\n",
        "      <td>  \u5bcc\u90a6\u8b49\u5238</td>\n",
        "      <td> 61</td>\n",
        "      <td>  6</td>\n",
        "      <td> +55</td>\n",
        "      <td> \u6c38\u8c50\u91d1\u8b49\u5238</td>\n",
        "      <td>  7</td>\n",
        "      <td> 107</td>\n",
        "      <td> -100</td>\n",
        "    </tr>\n",
        "    <tr>\n",
        "      <th>2 </th>\n",
        "      <td> \u65b0\u52a0\u5761\u5546\u745e</td>\n",
        "      <td> 44</td>\n",
        "      <td>  1</td>\n",
        "      <td> +43</td>\n",
        "      <td> \u6e2f\u5546\u9ea5\u683c\u91cc</td>\n",
        "      <td>  0</td>\n",
        "      <td>  66</td>\n",
        "      <td>  -66</td>\n",
        "    </tr>\n",
        "    <tr>\n",
        "      <th>3 </th>\n",
        "      <td>  \u7fa4\u76ca\u91d1\u9f0e</td>\n",
        "      <td> 24</td>\n",
        "      <td>  0</td>\n",
        "      <td> +24</td>\n",
        "      <td>  \u5146\u8c50\u8b49\u5238</td>\n",
        "      <td> 25</td>\n",
        "      <td>  63</td>\n",
        "      <td>  -38</td>\n",
        "    </tr>\n",
        "    <tr>\n",
        "      <th>4 </th>\n",
        "      <td>  \u570b\u7968\u8b49\u5238</td>\n",
        "      <td> 20</td>\n",
        "      <td>  1</td>\n",
        "      <td> +19</td>\n",
        "      <td>  \u745e\u58eb\u4fe1\u8cb8</td>\n",
        "      <td>  0</td>\n",
        "      <td>  27</td>\n",
        "      <td>  -27</td>\n",
        "    </tr>\n",
        "    <tr>\n",
        "      <th>5 </th>\n",
        "      <td>  \u51f1\u57fa\u8b49\u5238</td>\n",
        "      <td> 27</td>\n",
        "      <td>  9</td>\n",
        "      <td> +18</td>\n",
        "      <td> \u53f0\u7063\u6469\u6839\u58eb</td>\n",
        "      <td> 75</td>\n",
        "      <td>  88</td>\n",
        "      <td>  -13</td>\n",
        "    </tr>\n",
        "    <tr>\n",
        "      <th>6 </th>\n",
        "      <td>  \u65e5\u76db\u8b49\u5238</td>\n",
        "      <td> 17</td>\n",
        "      <td>  2</td>\n",
        "      <td> +15</td>\n",
        "      <td>  \u6cd5\u9280\u5df4\u9ece</td>\n",
        "      <td>  0</td>\n",
        "      <td>   9</td>\n",
        "      <td>   -9</td>\n",
        "    </tr>\n",
        "    <tr>\n",
        "      <th>7 </th>\n",
        "      <td>  \u7f8e\u5546\u9ad8\u76db</td>\n",
        "      <td> 54</td>\n",
        "      <td> 40</td>\n",
        "      <td> +14</td>\n",
        "      <td> \u6e2f\u5546\u6cd5\u570b\u8208</td>\n",
        "      <td>  4</td>\n",
        "      <td>   7</td>\n",
        "      <td>   -3</td>\n",
        "    </tr>\n",
        "    <tr>\n",
        "      <th>8 </th>\n",
        "      <td>    \u81fa\u9280</td>\n",
        "      <td> 14</td>\n",
        "      <td>  5</td>\n",
        "      <td>  +9</td>\n",
        "      <td>  \u570b\u6cf0\u8b49\u5238</td>\n",
        "      <td>  4</td>\n",
        "      <td>   6</td>\n",
        "      <td>   -2</td>\n",
        "    </tr>\n",
        "    <tr>\n",
        "      <th>9 </th>\n",
        "      <td>  \u7389\u5c71\u8b49\u5238</td>\n",
        "      <td>  9</td>\n",
        "      <td>  2</td>\n",
        "      <td>  +7</td>\n",
        "      <td>    \u4e9e\u6771</td>\n",
        "      <td>  0</td>\n",
        "      <td>   1</td>\n",
        "      <td>   -1</td>\n",
        "    </tr>\n",
        "    <tr>\n",
        "      <th>10</th>\n",
        "      <td>    \u5143\u5bcc</td>\n",
        "      <td>  8</td>\n",
        "      <td>  1</td>\n",
        "      <td>  +7</td>\n",
        "      <td> \u6e2f\u5546\u5fb7\u610f\u5fd7</td>\n",
        "      <td>  9</td>\n",
        "      <td>  10</td>\n",
        "      <td>   -1</td>\n",
        "    </tr>\n",
        "    <tr>\n",
        "      <th>11</th>\n",
        "      <td>  \u65b0\u5149\u8b49\u5238</td>\n",
        "      <td> 10</td>\n",
        "      <td>  4</td>\n",
        "      <td>  +6</td>\n",
        "      <td>  \u6469\u6839\u5927\u901a</td>\n",
        "      <td>  0</td>\n",
        "      <td>   1</td>\n",
        "      <td>   -1</td>\n",
        "    </tr>\n",
        "    <tr>\n",
        "      <th>12</th>\n",
        "      <td>    \u7f8e\u6797</td>\n",
        "      <td>  6</td>\n",
        "      <td>  0</td>\n",
        "      <td>  +6</td>\n",
        "      <td> \u53f0\u7063\u6771\u65b9\u532f</td>\n",
        "      <td>  0</td>\n",
        "      <td>   0</td>\n",
        "      <td>    0</td>\n",
        "    </tr>\n",
        "    <tr>\n",
        "      <th>13</th>\n",
        "      <td>    \u7d71\u4e00</td>\n",
        "      <td>  8</td>\n",
        "      <td>  3</td>\n",
        "      <td>  +5</td>\n",
        "      <td>    \u65e5\u8302</td>\n",
        "      <td>  0</td>\n",
        "      <td>   0</td>\n",
        "      <td>    0</td>\n",
        "    </tr>\n",
        "    <tr>\n",
        "      <th>14</th>\n",
        "      <td>   \u7b2c\u4e00\u91d1</td>\n",
        "      <td>  5</td>\n",
        "      <td>  0</td>\n",
        "      <td>  +5</td>\n",
        "      <td>  \u5168\u6cf0\u8b49\u5238</td>\n",
        "      <td>  0</td>\n",
        "      <td>   0</td>\n",
        "      <td>    0</td>\n",
        "    </tr>\n",
        "    <tr>\n",
        "      <th>15</th>\n",
        "      <td>  \u5eb7\u548c\u8b49\u5238</td>\n",
        "      <td> 11</td>\n",
        "      <td>  7</td>\n",
        "      <td>  +4</td>\n",
        "      <td>  \u91d1\u6e2f\u8b49\u5238</td>\n",
        "      <td>  0</td>\n",
        "      <td>   0</td>\n",
        "      <td>    0</td>\n",
        "    </tr>\n",
        "  </tbody>\n",
        "</table>\n",
        "</div>"
       ],
       "metadata": {},
       "output_type": "pyout",
       "prompt_number": 66,
       "text": [
        "        0   1   2    3      4   5    6     7\n",
        "0    \u8cb7\u8d85\u5238\u5546  \u8cb7\u9032  \u8ce3\u51fa   \u8cb7\u8d85   \u8ce3\u8d85\u5238\u5546  \u8cb7\u9032   \u8ce3\u51fa    \u8ce3\u8d85\n",
        "1    \u5bcc\u90a6\u8b49\u5238  61   6  +55  \u6c38\u8c50\u91d1\u8b49\u5238   7  107  -100\n",
        "2   \u65b0\u52a0\u5761\u5546\u745e  44   1  +43  \u6e2f\u5546\u9ea5\u683c\u91cc   0   66   -66\n",
        "3    \u7fa4\u76ca\u91d1\u9f0e  24   0  +24   \u5146\u8c50\u8b49\u5238  25   63   -38\n",
        "4    \u570b\u7968\u8b49\u5238  20   1  +19   \u745e\u58eb\u4fe1\u8cb8   0   27   -27\n",
        "5    \u51f1\u57fa\u8b49\u5238  27   9  +18  \u53f0\u7063\u6469\u6839\u58eb  75   88   -13\n",
        "6    \u65e5\u76db\u8b49\u5238  17   2  +15   \u6cd5\u9280\u5df4\u9ece   0    9    -9\n",
        "7    \u7f8e\u5546\u9ad8\u76db  54  40  +14  \u6e2f\u5546\u6cd5\u570b\u8208   4    7    -3\n",
        "8      \u81fa\u9280  14   5   +9   \u570b\u6cf0\u8b49\u5238   4    6    -2\n",
        "9    \u7389\u5c71\u8b49\u5238   9   2   +7     \u4e9e\u6771   0    1    -1\n",
        "10     \u5143\u5bcc   8   1   +7  \u6e2f\u5546\u5fb7\u610f\u5fd7   9   10    -1\n",
        "11   \u65b0\u5149\u8b49\u5238  10   4   +6   \u6469\u6839\u5927\u901a   0    1    -1\n",
        "12     \u7f8e\u6797   6   0   +6  \u53f0\u7063\u6771\u65b9\u532f   0    0     0\n",
        "13     \u7d71\u4e00   8   3   +5     \u65e5\u8302   0    0     0\n",
        "14    \u7b2c\u4e00\u91d1   5   0   +5   \u5168\u6cf0\u8b49\u5238   0    0     0\n",
        "15   \u5eb7\u548c\u8b49\u5238  11   7   +4   \u91d1\u6e2f\u8b49\u5238   0    0     0"
       ]
      }
     ],
     "prompt_number": 66
    },
    {
     "cell_type": "markdown",
     "metadata": {},
     "source": [
      "### \u91cd\u9ede\n",
      "\n",
      "\u6211\u5011\u4f86\u60f3\u60f3 database \u7684\u6b04\u4f4d\u8981\u54ea\u4e9b\u3002\u54e6, \u4e0d, \u7167\u8aaa\u6211\u5011\u5728\u6293\u8cc7\u6599\u524d\u5c31\u8981\u60f3\u4e86\u3002\u7e3d\u4e4b, \u6211\u5011\u73fe\u5728\u53ef\u80fd\u6703\u8981:\n",
      "\n",
      "* date: \u4ea4\u6613\u65e5\u671f\n",
      "* stock_id: \u80a1\u7968\u7684 ID\n",
      "* agent: \u8b49\u5238\u5546\n",
      "* buy: \u8cb7\u5165\u591a\u5c11\u80a1\n",
      "* sell: \u8ce3\u51fa\u591a\u5c11\u80a1"
     ]
    },
    {
     "cell_type": "markdown",
     "metadata": {},
     "source": [
      "## \u5148\u628a\u5df2\u6709\u7684\u62fc\u6210\u500b\u6a23\u5b50\n",
      "\n",
      "\u539f\u672c\u7684\u90a3\u5f35\u8868\u683c, \u5728\u4ed4\u7d30\u5206\u6790 (\u660e\u660e\u5f88\u5bb9\u6613\u770b\u51fa) \u6211\u5011\u4e0d\u9700\u8981\u6700\u524d\u9762\u90a3\u4e00\u5217, \u7136\u5f8c\u5de6\u53f3\u5404\u6709\u4e00\u7fa4\u6211\u5011\u8981\u7684\u3002\u5de6\u908a\u7684\u662f\u524d\u4e09\u884c, \u53f3\u908a\u662f 4, 5, 6 \u884c\u3002"
     ]
    },
    {
     "cell_type": "markdown",
     "metadata": {},
     "source": [
      "\u6aa2\u67e5\u4e00\u4e0b\u3002"
     ]
    },
    {
     "cell_type": "code",
     "collapsed": false,
     "input": [
      "data_df.values[1:,0:3]"
     ],
     "language": "python",
     "metadata": {},
     "outputs": [
      {
       "metadata": {},
       "output_type": "pyout",
       "prompt_number": 67,
       "text": [
        "array([[u'\\u5bcc\\u90a6\\u8b49\\u5238', u'61', u'6'],\n",
        "       [u'\\u65b0\\u52a0\\u5761\\u5546\\u745e', u'44', u'1'],\n",
        "       [u'\\u7fa4\\u76ca\\u91d1\\u9f0e', u'24', u'0'],\n",
        "       [u'\\u570b\\u7968\\u8b49\\u5238', u'20', u'1'],\n",
        "       [u'\\u51f1\\u57fa\\u8b49\\u5238', u'27', u'9'],\n",
        "       [u'\\u65e5\\u76db\\u8b49\\u5238', u'17', u'2'],\n",
        "       [u'\\u7f8e\\u5546\\u9ad8\\u76db', u'54', u'40'],\n",
        "       [u'\\u81fa\\u9280', u'14', u'5'],\n",
        "       [u'\\u7389\\u5c71\\u8b49\\u5238', u'9', u'2'],\n",
        "       [u'\\u5143\\u5bcc', u'8', u'1'],\n",
        "       [u'\\u65b0\\u5149\\u8b49\\u5238', u'10', u'4'],\n",
        "       [u'\\u7f8e\\u6797', u'6', u'0'],\n",
        "       [u'\\u7d71\\u4e00', u'8', u'3'],\n",
        "       [u'\\u7b2c\\u4e00\\u91d1', u'5', u'0'],\n",
        "       [u'\\u5eb7\\u548c\\u8b49\\u5238', u'11', u'7']], dtype=object)"
       ]
      }
     ],
     "prompt_number": 67
    },
    {
     "cell_type": "markdown",
     "metadata": {},
     "source": [
      "\u6eff\u610f\u6211\u5011\u5c31\u9001\u7d66\u718a\u8c93\u505a\u6210 DataFrame"
     ]
    },
    {
     "cell_type": "code",
     "collapsed": false,
     "input": [
      "pd.DataFrame(data_df.values[1:,0:3])"
     ],
     "language": "python",
     "metadata": {},
     "outputs": [
      {
       "html": [
        "<div style=\"max-height:1000px;max-width:1500px;overflow:auto;\">\n",
        "<table border=\"1\" class=\"dataframe\">\n",
        "  <thead>\n",
        "    <tr style=\"text-align: right;\">\n",
        "      <th></th>\n",
        "      <th>0</th>\n",
        "      <th>1</th>\n",
        "      <th>2</th>\n",
        "    </tr>\n",
        "  </thead>\n",
        "  <tbody>\n",
        "    <tr>\n",
        "      <th>0 </th>\n",
        "      <td>  \u5bcc\u90a6\u8b49\u5238</td>\n",
        "      <td> 61</td>\n",
        "      <td>  6</td>\n",
        "    </tr>\n",
        "    <tr>\n",
        "      <th>1 </th>\n",
        "      <td> \u65b0\u52a0\u5761\u5546\u745e</td>\n",
        "      <td> 44</td>\n",
        "      <td>  1</td>\n",
        "    </tr>\n",
        "    <tr>\n",
        "      <th>2 </th>\n",
        "      <td>  \u7fa4\u76ca\u91d1\u9f0e</td>\n",
        "      <td> 24</td>\n",
        "      <td>  0</td>\n",
        "    </tr>\n",
        "    <tr>\n",
        "      <th>3 </th>\n",
        "      <td>  \u570b\u7968\u8b49\u5238</td>\n",
        "      <td> 20</td>\n",
        "      <td>  1</td>\n",
        "    </tr>\n",
        "    <tr>\n",
        "      <th>4 </th>\n",
        "      <td>  \u51f1\u57fa\u8b49\u5238</td>\n",
        "      <td> 27</td>\n",
        "      <td>  9</td>\n",
        "    </tr>\n",
        "    <tr>\n",
        "      <th>5 </th>\n",
        "      <td>  \u65e5\u76db\u8b49\u5238</td>\n",
        "      <td> 17</td>\n",
        "      <td>  2</td>\n",
        "    </tr>\n",
        "    <tr>\n",
        "      <th>6 </th>\n",
        "      <td>  \u7f8e\u5546\u9ad8\u76db</td>\n",
        "      <td> 54</td>\n",
        "      <td> 40</td>\n",
        "    </tr>\n",
        "    <tr>\n",
        "      <th>7 </th>\n",
        "      <td>    \u81fa\u9280</td>\n",
        "      <td> 14</td>\n",
        "      <td>  5</td>\n",
        "    </tr>\n",
        "    <tr>\n",
        "      <th>8 </th>\n",
        "      <td>  \u7389\u5c71\u8b49\u5238</td>\n",
        "      <td>  9</td>\n",
        "      <td>  2</td>\n",
        "    </tr>\n",
        "    <tr>\n",
        "      <th>9 </th>\n",
        "      <td>    \u5143\u5bcc</td>\n",
        "      <td>  8</td>\n",
        "      <td>  1</td>\n",
        "    </tr>\n",
        "    <tr>\n",
        "      <th>10</th>\n",
        "      <td>  \u65b0\u5149\u8b49\u5238</td>\n",
        "      <td> 10</td>\n",
        "      <td>  4</td>\n",
        "    </tr>\n",
        "    <tr>\n",
        "      <th>11</th>\n",
        "      <td>    \u7f8e\u6797</td>\n",
        "      <td>  6</td>\n",
        "      <td>  0</td>\n",
        "    </tr>\n",
        "    <tr>\n",
        "      <th>12</th>\n",
        "      <td>    \u7d71\u4e00</td>\n",
        "      <td>  8</td>\n",
        "      <td>  3</td>\n",
        "    </tr>\n",
        "    <tr>\n",
        "      <th>13</th>\n",
        "      <td>   \u7b2c\u4e00\u91d1</td>\n",
        "      <td>  5</td>\n",
        "      <td>  0</td>\n",
        "    </tr>\n",
        "    <tr>\n",
        "      <th>14</th>\n",
        "      <td>  \u5eb7\u548c\u8b49\u5238</td>\n",
        "      <td> 11</td>\n",
        "      <td>  7</td>\n",
        "    </tr>\n",
        "  </tbody>\n",
        "</table>\n",
        "</div>"
       ],
       "metadata": {},
       "output_type": "pyout",
       "prompt_number": 68,
       "text": [
        "        0   1   2\n",
        "0    \u5bcc\u90a6\u8b49\u5238  61   6\n",
        "1   \u65b0\u52a0\u5761\u5546\u745e  44   1\n",
        "2    \u7fa4\u76ca\u91d1\u9f0e  24   0\n",
        "3    \u570b\u7968\u8b49\u5238  20   1\n",
        "4    \u51f1\u57fa\u8b49\u5238  27   9\n",
        "5    \u65e5\u76db\u8b49\u5238  17   2\n",
        "6    \u7f8e\u5546\u9ad8\u76db  54  40\n",
        "7      \u81fa\u9280  14   5\n",
        "8    \u7389\u5c71\u8b49\u5238   9   2\n",
        "9      \u5143\u5bcc   8   1\n",
        "10   \u65b0\u5149\u8b49\u5238  10   4\n",
        "11     \u7f8e\u6797   6   0\n",
        "12     \u7d71\u4e00   8   3\n",
        "13    \u7b2c\u4e00\u91d1   5   0\n",
        "14   \u5eb7\u548c\u8b49\u5238  11   7"
       ]
      }
     ],
     "prompt_number": 68
    },
    {
     "cell_type": "markdown",
     "metadata": {},
     "source": [
      "\u53e6\u4e00\u908a\u7576\u7136\u4e5f\u53ef\u4ee5\u9019\u6a23\u505a\u3002\u4f46\u662f, \u8036, \u6211\u5011\u4e0d\u662f\u8981\u505a\u5169\u5f35\u8868\u683c, \u662f\u8981\u4f75\u6210\u4e00\u5f35!!"
     ]
    },
    {
     "cell_type": "code",
     "collapsed": false,
     "input": [
      "pd.DataFrame(data_df.values[1:,4:7])"
     ],
     "language": "python",
     "metadata": {},
     "outputs": [
      {
       "html": [
        "<div style=\"max-height:1000px;max-width:1500px;overflow:auto;\">\n",
        "<table border=\"1\" class=\"dataframe\">\n",
        "  <thead>\n",
        "    <tr style=\"text-align: right;\">\n",
        "      <th></th>\n",
        "      <th>0</th>\n",
        "      <th>1</th>\n",
        "      <th>2</th>\n",
        "    </tr>\n",
        "  </thead>\n",
        "  <tbody>\n",
        "    <tr>\n",
        "      <th>0 </th>\n",
        "      <td> \u6c38\u8c50\u91d1\u8b49\u5238</td>\n",
        "      <td>  7</td>\n",
        "      <td> 107</td>\n",
        "    </tr>\n",
        "    <tr>\n",
        "      <th>1 </th>\n",
        "      <td> \u6e2f\u5546\u9ea5\u683c\u91cc</td>\n",
        "      <td>  0</td>\n",
        "      <td>  66</td>\n",
        "    </tr>\n",
        "    <tr>\n",
        "      <th>2 </th>\n",
        "      <td>  \u5146\u8c50\u8b49\u5238</td>\n",
        "      <td> 25</td>\n",
        "      <td>  63</td>\n",
        "    </tr>\n",
        "    <tr>\n",
        "      <th>3 </th>\n",
        "      <td>  \u745e\u58eb\u4fe1\u8cb8</td>\n",
        "      <td>  0</td>\n",
        "      <td>  27</td>\n",
        "    </tr>\n",
        "    <tr>\n",
        "      <th>4 </th>\n",
        "      <td> \u53f0\u7063\u6469\u6839\u58eb</td>\n",
        "      <td> 75</td>\n",
        "      <td>  88</td>\n",
        "    </tr>\n",
        "    <tr>\n",
        "      <th>5 </th>\n",
        "      <td>  \u6cd5\u9280\u5df4\u9ece</td>\n",
        "      <td>  0</td>\n",
        "      <td>   9</td>\n",
        "    </tr>\n",
        "    <tr>\n",
        "      <th>6 </th>\n",
        "      <td> \u6e2f\u5546\u6cd5\u570b\u8208</td>\n",
        "      <td>  4</td>\n",
        "      <td>   7</td>\n",
        "    </tr>\n",
        "    <tr>\n",
        "      <th>7 </th>\n",
        "      <td>  \u570b\u6cf0\u8b49\u5238</td>\n",
        "      <td>  4</td>\n",
        "      <td>   6</td>\n",
        "    </tr>\n",
        "    <tr>\n",
        "      <th>8 </th>\n",
        "      <td>    \u4e9e\u6771</td>\n",
        "      <td>  0</td>\n",
        "      <td>   1</td>\n",
        "    </tr>\n",
        "    <tr>\n",
        "      <th>9 </th>\n",
        "      <td> \u6e2f\u5546\u5fb7\u610f\u5fd7</td>\n",
        "      <td>  9</td>\n",
        "      <td>  10</td>\n",
        "    </tr>\n",
        "    <tr>\n",
        "      <th>10</th>\n",
        "      <td>  \u6469\u6839\u5927\u901a</td>\n",
        "      <td>  0</td>\n",
        "      <td>   1</td>\n",
        "    </tr>\n",
        "    <tr>\n",
        "      <th>11</th>\n",
        "      <td> \u53f0\u7063\u6771\u65b9\u532f</td>\n",
        "      <td>  0</td>\n",
        "      <td>   0</td>\n",
        "    </tr>\n",
        "    <tr>\n",
        "      <th>12</th>\n",
        "      <td>    \u65e5\u8302</td>\n",
        "      <td>  0</td>\n",
        "      <td>   0</td>\n",
        "    </tr>\n",
        "    <tr>\n",
        "      <th>13</th>\n",
        "      <td>  \u5168\u6cf0\u8b49\u5238</td>\n",
        "      <td>  0</td>\n",
        "      <td>   0</td>\n",
        "    </tr>\n",
        "    <tr>\n",
        "      <th>14</th>\n",
        "      <td>  \u91d1\u6e2f\u8b49\u5238</td>\n",
        "      <td>  0</td>\n",
        "      <td>   0</td>\n",
        "    </tr>\n",
        "  </tbody>\n",
        "</table>\n",
        "</div>"
       ],
       "metadata": {},
       "output_type": "pyout",
       "prompt_number": 69,
       "text": [
        "        0   1    2\n",
        "0   \u6c38\u8c50\u91d1\u8b49\u5238   7  107\n",
        "1   \u6e2f\u5546\u9ea5\u683c\u91cc   0   66\n",
        "2    \u5146\u8c50\u8b49\u5238  25   63\n",
        "3    \u745e\u58eb\u4fe1\u8cb8   0   27\n",
        "4   \u53f0\u7063\u6469\u6839\u58eb  75   88\n",
        "5    \u6cd5\u9280\u5df4\u9ece   0    9\n",
        "6   \u6e2f\u5546\u6cd5\u570b\u8208   4    7\n",
        "7    \u570b\u6cf0\u8b49\u5238   4    6\n",
        "8      \u4e9e\u6771   0    1\n",
        "9   \u6e2f\u5546\u5fb7\u610f\u5fd7   9   10\n",
        "10   \u6469\u6839\u5927\u901a   0    1\n",
        "11  \u53f0\u7063\u6771\u65b9\u532f   0    0\n",
        "12     \u65e5\u8302   0    0\n",
        "13   \u5168\u6cf0\u8b49\u5238   0    0\n",
        "14   \u91d1\u6e2f\u8b49\u5238   0    0"
       ]
      }
     ],
     "prompt_number": 69
    },
    {
     "cell_type": "markdown",
     "metadata": {},
     "source": [
      "### numpy \u9592\u9592\u6c92\u4e8b\u5e79, \u53eb\u4f86\u62fc\u8868\u683c!"
     ]
    },
    {
     "cell_type": "code",
     "collapsed": false,
     "input": [
      "import numpy as np"
     ],
     "language": "python",
     "metadata": {},
     "outputs": [],
     "prompt_number": 70
    },
    {
     "cell_type": "markdown",
     "metadata": {},
     "source": [
      "\u6211\u5011\u5148\u7528 numpy \u628a\u5169\u5f35\u8868\u683c\u62fc\u8d77\u4f86, \u7136\u5f8c\u518d\u9001\u53bb\u505a\u6210 DataFrame\u3002"
     ]
    },
    {
     "cell_type": "code",
     "collapsed": false,
     "input": [
      "final_df = pd.DataFrame(np.r_[data_df.values[1:,0:3], data_df.values[1:,4:7]])"
     ],
     "language": "python",
     "metadata": {},
     "outputs": [],
     "prompt_number": 71
    },
    {
     "cell_type": "code",
     "collapsed": false,
     "input": [
      "final_df"
     ],
     "language": "python",
     "metadata": {},
     "outputs": [
      {
       "html": [
        "<div style=\"max-height:1000px;max-width:1500px;overflow:auto;\">\n",
        "<table border=\"1\" class=\"dataframe\">\n",
        "  <thead>\n",
        "    <tr style=\"text-align: right;\">\n",
        "      <th></th>\n",
        "      <th>0</th>\n",
        "      <th>1</th>\n",
        "      <th>2</th>\n",
        "    </tr>\n",
        "  </thead>\n",
        "  <tbody>\n",
        "    <tr>\n",
        "      <th>0 </th>\n",
        "      <td>  \u5bcc\u90a6\u8b49\u5238</td>\n",
        "      <td> 61</td>\n",
        "      <td>   6</td>\n",
        "    </tr>\n",
        "    <tr>\n",
        "      <th>1 </th>\n",
        "      <td> \u65b0\u52a0\u5761\u5546\u745e</td>\n",
        "      <td> 44</td>\n",
        "      <td>   1</td>\n",
        "    </tr>\n",
        "    <tr>\n",
        "      <th>2 </th>\n",
        "      <td>  \u7fa4\u76ca\u91d1\u9f0e</td>\n",
        "      <td> 24</td>\n",
        "      <td>   0</td>\n",
        "    </tr>\n",
        "    <tr>\n",
        "      <th>3 </th>\n",
        "      <td>  \u570b\u7968\u8b49\u5238</td>\n",
        "      <td> 20</td>\n",
        "      <td>   1</td>\n",
        "    </tr>\n",
        "    <tr>\n",
        "      <th>4 </th>\n",
        "      <td>  \u51f1\u57fa\u8b49\u5238</td>\n",
        "      <td> 27</td>\n",
        "      <td>   9</td>\n",
        "    </tr>\n",
        "    <tr>\n",
        "      <th>5 </th>\n",
        "      <td>  \u65e5\u76db\u8b49\u5238</td>\n",
        "      <td> 17</td>\n",
        "      <td>   2</td>\n",
        "    </tr>\n",
        "    <tr>\n",
        "      <th>6 </th>\n",
        "      <td>  \u7f8e\u5546\u9ad8\u76db</td>\n",
        "      <td> 54</td>\n",
        "      <td>  40</td>\n",
        "    </tr>\n",
        "    <tr>\n",
        "      <th>7 </th>\n",
        "      <td>    \u81fa\u9280</td>\n",
        "      <td> 14</td>\n",
        "      <td>   5</td>\n",
        "    </tr>\n",
        "    <tr>\n",
        "      <th>8 </th>\n",
        "      <td>  \u7389\u5c71\u8b49\u5238</td>\n",
        "      <td>  9</td>\n",
        "      <td>   2</td>\n",
        "    </tr>\n",
        "    <tr>\n",
        "      <th>9 </th>\n",
        "      <td>    \u5143\u5bcc</td>\n",
        "      <td>  8</td>\n",
        "      <td>   1</td>\n",
        "    </tr>\n",
        "    <tr>\n",
        "      <th>10</th>\n",
        "      <td>  \u65b0\u5149\u8b49\u5238</td>\n",
        "      <td> 10</td>\n",
        "      <td>   4</td>\n",
        "    </tr>\n",
        "    <tr>\n",
        "      <th>11</th>\n",
        "      <td>    \u7f8e\u6797</td>\n",
        "      <td>  6</td>\n",
        "      <td>   0</td>\n",
        "    </tr>\n",
        "    <tr>\n",
        "      <th>12</th>\n",
        "      <td>    \u7d71\u4e00</td>\n",
        "      <td>  8</td>\n",
        "      <td>   3</td>\n",
        "    </tr>\n",
        "    <tr>\n",
        "      <th>13</th>\n",
        "      <td>   \u7b2c\u4e00\u91d1</td>\n",
        "      <td>  5</td>\n",
        "      <td>   0</td>\n",
        "    </tr>\n",
        "    <tr>\n",
        "      <th>14</th>\n",
        "      <td>  \u5eb7\u548c\u8b49\u5238</td>\n",
        "      <td> 11</td>\n",
        "      <td>   7</td>\n",
        "    </tr>\n",
        "    <tr>\n",
        "      <th>15</th>\n",
        "      <td> \u6c38\u8c50\u91d1\u8b49\u5238</td>\n",
        "      <td>  7</td>\n",
        "      <td> 107</td>\n",
        "    </tr>\n",
        "    <tr>\n",
        "      <th>16</th>\n",
        "      <td> \u6e2f\u5546\u9ea5\u683c\u91cc</td>\n",
        "      <td>  0</td>\n",
        "      <td>  66</td>\n",
        "    </tr>\n",
        "    <tr>\n",
        "      <th>17</th>\n",
        "      <td>  \u5146\u8c50\u8b49\u5238</td>\n",
        "      <td> 25</td>\n",
        "      <td>  63</td>\n",
        "    </tr>\n",
        "    <tr>\n",
        "      <th>18</th>\n",
        "      <td>  \u745e\u58eb\u4fe1\u8cb8</td>\n",
        "      <td>  0</td>\n",
        "      <td>  27</td>\n",
        "    </tr>\n",
        "    <tr>\n",
        "      <th>19</th>\n",
        "      <td> \u53f0\u7063\u6469\u6839\u58eb</td>\n",
        "      <td> 75</td>\n",
        "      <td>  88</td>\n",
        "    </tr>\n",
        "    <tr>\n",
        "      <th>20</th>\n",
        "      <td>  \u6cd5\u9280\u5df4\u9ece</td>\n",
        "      <td>  0</td>\n",
        "      <td>   9</td>\n",
        "    </tr>\n",
        "    <tr>\n",
        "      <th>21</th>\n",
        "      <td> \u6e2f\u5546\u6cd5\u570b\u8208</td>\n",
        "      <td>  4</td>\n",
        "      <td>   7</td>\n",
        "    </tr>\n",
        "    <tr>\n",
        "      <th>22</th>\n",
        "      <td>  \u570b\u6cf0\u8b49\u5238</td>\n",
        "      <td>  4</td>\n",
        "      <td>   6</td>\n",
        "    </tr>\n",
        "    <tr>\n",
        "      <th>23</th>\n",
        "      <td>    \u4e9e\u6771</td>\n",
        "      <td>  0</td>\n",
        "      <td>   1</td>\n",
        "    </tr>\n",
        "    <tr>\n",
        "      <th>24</th>\n",
        "      <td> \u6e2f\u5546\u5fb7\u610f\u5fd7</td>\n",
        "      <td>  9</td>\n",
        "      <td>  10</td>\n",
        "    </tr>\n",
        "    <tr>\n",
        "      <th>25</th>\n",
        "      <td>  \u6469\u6839\u5927\u901a</td>\n",
        "      <td>  0</td>\n",
        "      <td>   1</td>\n",
        "    </tr>\n",
        "    <tr>\n",
        "      <th>26</th>\n",
        "      <td> \u53f0\u7063\u6771\u65b9\u532f</td>\n",
        "      <td>  0</td>\n",
        "      <td>   0</td>\n",
        "    </tr>\n",
        "    <tr>\n",
        "      <th>27</th>\n",
        "      <td>    \u65e5\u8302</td>\n",
        "      <td>  0</td>\n",
        "      <td>   0</td>\n",
        "    </tr>\n",
        "    <tr>\n",
        "      <th>28</th>\n",
        "      <td>  \u5168\u6cf0\u8b49\u5238</td>\n",
        "      <td>  0</td>\n",
        "      <td>   0</td>\n",
        "    </tr>\n",
        "    <tr>\n",
        "      <th>29</th>\n",
        "      <td>  \u91d1\u6e2f\u8b49\u5238</td>\n",
        "      <td>  0</td>\n",
        "      <td>   0</td>\n",
        "    </tr>\n",
        "  </tbody>\n",
        "</table>\n",
        "</div>"
       ],
       "metadata": {},
       "output_type": "pyout",
       "prompt_number": 72,
       "text": [
        "        0   1    2\n",
        "0    \u5bcc\u90a6\u8b49\u5238  61    6\n",
        "1   \u65b0\u52a0\u5761\u5546\u745e  44    1\n",
        "2    \u7fa4\u76ca\u91d1\u9f0e  24    0\n",
        "3    \u570b\u7968\u8b49\u5238  20    1\n",
        "4    \u51f1\u57fa\u8b49\u5238  27    9\n",
        "5    \u65e5\u76db\u8b49\u5238  17    2\n",
        "6    \u7f8e\u5546\u9ad8\u76db  54   40\n",
        "7      \u81fa\u9280  14    5\n",
        "8    \u7389\u5c71\u8b49\u5238   9    2\n",
        "9      \u5143\u5bcc   8    1\n",
        "10   \u65b0\u5149\u8b49\u5238  10    4\n",
        "11     \u7f8e\u6797   6    0\n",
        "12     \u7d71\u4e00   8    3\n",
        "13    \u7b2c\u4e00\u91d1   5    0\n",
        "14   \u5eb7\u548c\u8b49\u5238  11    7\n",
        "15  \u6c38\u8c50\u91d1\u8b49\u5238   7  107\n",
        "16  \u6e2f\u5546\u9ea5\u683c\u91cc   0   66\n",
        "17   \u5146\u8c50\u8b49\u5238  25   63\n",
        "18   \u745e\u58eb\u4fe1\u8cb8   0   27\n",
        "19  \u53f0\u7063\u6469\u6839\u58eb  75   88\n",
        "20   \u6cd5\u9280\u5df4\u9ece   0    9\n",
        "21  \u6e2f\u5546\u6cd5\u570b\u8208   4    7\n",
        "22   \u570b\u6cf0\u8b49\u5238   4    6\n",
        "23     \u4e9e\u6771   0    1\n",
        "24  \u6e2f\u5546\u5fb7\u610f\u5fd7   9   10\n",
        "25   \u6469\u6839\u5927\u901a   0    1\n",
        "26  \u53f0\u7063\u6771\u65b9\u532f   0    0\n",
        "27     \u65e5\u8302   0    0\n",
        "28   \u5168\u6cf0\u8b49\u5238   0    0\n",
        "29   \u91d1\u6e2f\u8b49\u5238   0    0"
       ]
      }
     ],
     "prompt_number": 72
    },
    {
     "cell_type": "markdown",
     "metadata": {},
     "source": [
      "\u6bcf\u4e00\u6b04\u7684\u540d\u5b57\u7528 0, 1, 2 \u5f88\u905c, \u9019\u7a2e\u5c0f\u4e8b\u5f88\u5bb9\u6613\u89e3\u6c7a\u3002"
     ]
    },
    {
     "cell_type": "code",
     "collapsed": false,
     "input": [
      "final_df.columns = [\"agent\", \"buy\", \"sell\"]"
     ],
     "language": "python",
     "metadata": {},
     "outputs": [],
     "prompt_number": 73
    },
    {
     "cell_type": "code",
     "collapsed": false,
     "input": [
      "final_df.head()"
     ],
     "language": "python",
     "metadata": {},
     "outputs": [
      {
       "html": [
        "<div style=\"max-height:1000px;max-width:1500px;overflow:auto;\">\n",
        "<table border=\"1\" class=\"dataframe\">\n",
        "  <thead>\n",
        "    <tr style=\"text-align: right;\">\n",
        "      <th></th>\n",
        "      <th>agent</th>\n",
        "      <th>buy</th>\n",
        "      <th>sell</th>\n",
        "    </tr>\n",
        "  </thead>\n",
        "  <tbody>\n",
        "    <tr>\n",
        "      <th>0</th>\n",
        "      <td>  \u5bcc\u90a6\u8b49\u5238</td>\n",
        "      <td> 61</td>\n",
        "      <td> 6</td>\n",
        "    </tr>\n",
        "    <tr>\n",
        "      <th>1</th>\n",
        "      <td> \u65b0\u52a0\u5761\u5546\u745e</td>\n",
        "      <td> 44</td>\n",
        "      <td> 1</td>\n",
        "    </tr>\n",
        "    <tr>\n",
        "      <th>2</th>\n",
        "      <td>  \u7fa4\u76ca\u91d1\u9f0e</td>\n",
        "      <td> 24</td>\n",
        "      <td> 0</td>\n",
        "    </tr>\n",
        "    <tr>\n",
        "      <th>3</th>\n",
        "      <td>  \u570b\u7968\u8b49\u5238</td>\n",
        "      <td> 20</td>\n",
        "      <td> 1</td>\n",
        "    </tr>\n",
        "    <tr>\n",
        "      <th>4</th>\n",
        "      <td>  \u51f1\u57fa\u8b49\u5238</td>\n",
        "      <td> 27</td>\n",
        "      <td> 9</td>\n",
        "    </tr>\n",
        "  </tbody>\n",
        "</table>\n",
        "</div>"
       ],
       "metadata": {},
       "output_type": "pyout",
       "prompt_number": 74,
       "text": [
        "   agent buy sell\n",
        "0   \u5bcc\u90a6\u8b49\u5238  61    6\n",
        "1  \u65b0\u52a0\u5761\u5546\u745e  44    1\n",
        "2   \u7fa4\u76ca\u91d1\u9f0e  24    0\n",
        "3   \u570b\u7968\u8b49\u5238  20    1\n",
        "4   \u51f1\u57fa\u8b49\u5238  27    9"
       ]
      }
     ],
     "prompt_number": 74
    },
    {
     "cell_type": "markdown",
     "metadata": {},
     "source": [
      "### \u505a\u5b8c\u4e86\u8036, \u5176\u5be6\u82e6\u65e5\u5b50\u624d\u8981\u958b\u59cb...\n",
      "\n",
      "\u6211\u5011\u597d\u50cf\u53ea\u5dee\u628a\u80a1\u7968 ID\u3001\u65e5\u671f\u653e\u9032\u53bb\u7684\u5de5\u4f5c\u3002\u80a1\u7968 ID \u9084\u597d, \u56e0\u70ba\u5c31\u662f\u6211\u5011\u8981\u67e5\u7684\u80a1\u7968 ID, \u4f46\u662f\u65e5\u671f... "
     ]
    },
    {
     "cell_type": "markdown",
     "metadata": {},
     "source": [
      "\u52a0\u5165\u80a1\u7968 ID \u662f\u4e00\u884c\u6587\u3002"
     ]
    },
    {
     "cell_type": "code",
     "collapsed": false,
     "input": [
      "final_df[\"stock_id\"] = \"2451\" # \u7576\u7136\u9019\u88e1\u7528\u500b\u5b57\u4e32\u8b8a\u6578\u6bd4\u8f03\u6709\u9053\u7406, \u4e0d\u904e\u5c31\u793a\u7bc4..."
     ],
     "language": "python",
     "metadata": {},
     "outputs": [],
     "prompt_number": 75
    },
    {
     "cell_type": "code",
     "collapsed": false,
     "input": [
      "final_df.head()"
     ],
     "language": "python",
     "metadata": {},
     "outputs": [
      {
       "html": [
        "<div style=\"max-height:1000px;max-width:1500px;overflow:auto;\">\n",
        "<table border=\"1\" class=\"dataframe\">\n",
        "  <thead>\n",
        "    <tr style=\"text-align: right;\">\n",
        "      <th></th>\n",
        "      <th>agent</th>\n",
        "      <th>buy</th>\n",
        "      <th>sell</th>\n",
        "      <th>stock_id</th>\n",
        "    </tr>\n",
        "  </thead>\n",
        "  <tbody>\n",
        "    <tr>\n",
        "      <th>0</th>\n",
        "      <td>  \u5bcc\u90a6\u8b49\u5238</td>\n",
        "      <td> 61</td>\n",
        "      <td> 6</td>\n",
        "      <td> 2451</td>\n",
        "    </tr>\n",
        "    <tr>\n",
        "      <th>1</th>\n",
        "      <td> \u65b0\u52a0\u5761\u5546\u745e</td>\n",
        "      <td> 44</td>\n",
        "      <td> 1</td>\n",
        "      <td> 2451</td>\n",
        "    </tr>\n",
        "    <tr>\n",
        "      <th>2</th>\n",
        "      <td>  \u7fa4\u76ca\u91d1\u9f0e</td>\n",
        "      <td> 24</td>\n",
        "      <td> 0</td>\n",
        "      <td> 2451</td>\n",
        "    </tr>\n",
        "    <tr>\n",
        "      <th>3</th>\n",
        "      <td>  \u570b\u7968\u8b49\u5238</td>\n",
        "      <td> 20</td>\n",
        "      <td> 1</td>\n",
        "      <td> 2451</td>\n",
        "    </tr>\n",
        "    <tr>\n",
        "      <th>4</th>\n",
        "      <td>  \u51f1\u57fa\u8b49\u5238</td>\n",
        "      <td> 27</td>\n",
        "      <td> 9</td>\n",
        "      <td> 2451</td>\n",
        "    </tr>\n",
        "  </tbody>\n",
        "</table>\n",
        "</div>"
       ],
       "metadata": {},
       "output_type": "pyout",
       "prompt_number": 76,
       "text": [
        "   agent buy sell stock_id\n",
        "0   \u5bcc\u90a6\u8b49\u5238  61    6     2451\n",
        "1  \u65b0\u52a0\u5761\u5546\u745e  44    1     2451\n",
        "2   \u7fa4\u76ca\u91d1\u9f0e  24    0     2451\n",
        "3   \u570b\u7968\u8b49\u5238  20    1     2451\n",
        "4   \u51f1\u57fa\u8b49\u5238  27    9     2451"
       ]
      }
     ],
     "prompt_number": 76
    },
    {
     "cell_type": "markdown",
     "metadata": {},
     "source": [
      "### \u65e5\u671f, \u65e5\u671f, \u6211\u8981\u6293\u65e5\u671f...\n",
      "\n",
      "\u9019\u662f\u786c\u5de5\u592b\u7684\u4ee3\u8868\u3002\u5176\u5be6\u7db2\u9801\u4e0a\u5c31\u6709\u500b\u65e5\u671f, \u4f46\u662f\u6211\u8981\u6293\u5230\u5b83\u600e\u9ebc\u505a?"
     ]
    },
    {
     "cell_type": "markdown",
     "metadata": {},
     "source": [
      "## \u91cd\u9ede\n",
      "\n",
      "Google Chrome \u700f\u89bd\u5668\u5728\u7db2\u9801\u4f60\u60f3\u770b\u5143\u4ef6\u7684\u5730\u65b9, \u6309\u6ed1\u9f20\u53f3\u9375, \u9078\u64c7\u300c\u6aa2\u67e5\u5143\u7d20\u300d, \u5c31\u53ef\u4ee5\u770b\u80cc\u5f8c\u7684 HTML code \u7b49\u8cc7\u8a0a\u3002<b style=\"color: red;\">Chrome \u6aa2\u67e5\u5143\u7d20\u7684\u5de5\u5177\u597d\u597d\u719f\u6089, \u5b83\u662f\u5e6b\u6211\u5011\u5c0b\u5bf6\u7684\u91cd\u8981\u5de5\u5177!!</b>\n",
      "\n",
      "![Chorme \u7684\u6aa2\u67e5\u5143\u7d20](images/inspect.png)"
     ]
    },
    {
     "cell_type": "markdown",
     "metadata": {},
     "source": [
      "\u53cd\u6b63\u5148\u628a pyquery \u53eb\u4f86\u518d\u8aaa\u3002"
     ]
    },
    {
     "cell_type": "code",
     "collapsed": false,
     "input": [
      "from pyquery import PyQuery"
     ],
     "language": "python",
     "metadata": {},
     "outputs": [],
     "prompt_number": 77
    },
    {
     "cell_type": "code",
     "collapsed": false,
     "input": [
      "S = PyQuery(res.text) # \u57fa\u672c\u4e0a\u5c31\u662f\u628a\u6211\u5011\u8b80\u9032\u7684\u7db2\u9801\u9001\u7d66 PyQuery \u6e96\u5099\u8655\u7406"
     ],
     "language": "python",
     "metadata": {},
     "outputs": [],
     "prompt_number": 78
    },
    {
     "cell_type": "markdown",
     "metadata": {},
     "source": [
      "![\u65e5\u671f\u7684\u4f4d\u7f6e](images/tdwidth.png)\n",
      "\n",
      "\u7528 Chrome \u6aa2\u67e5\u5143\u4ef6\u770b\u51fa\u4f86, \u65e5\u671f\u88ab\u593e\u5728\u67d0\u500b td \u6a19\u7c64\u4e2d\u3002\u6211\u5011\u4f86\u641c\u641c\u770b tag\u3002"
     ]
    },
    {
     "cell_type": "code",
     "collapsed": false,
     "input": [
      "S(\"td\")"
     ],
     "language": "python",
     "metadata": {},
     "outputs": [
      {
       "metadata": {},
       "output_type": "pyout",
       "prompt_number": 79,
       "text": [
        "[<td.yucs-form-input>, <td.yucs-form-btn>, <td>, <td>, <td>, <td>, <td>, <td>, <td>, <td>, <td>, <td>, <td>, <td>, <td>, <td>, <td>, <td>, <td>, <td>, <td.ssbody>, <td>, <td>, <td>, <td>, <td>, <td>, <td.tt.yui-td-left>, <td>, <td.tt>, <td.ttt>, <td.tt>, <td.ttt>, <td.ttt>, <td.ttt>, <td.ttt>, <td.ttt>, <td.ttt>, <td.ttt>, <td.ttt>, <td.ttt>, <td.ttt>, <td.ttt>, <td.ttt>, <td.ttt>, <td.ttt>, <td.ttt>, <td.ttt>, <td.ttt>, <td.ttt>, <td.ttt>, <td.ttt>, <td.ttt>, <td.ttt>, <td.ttt>, <td.ttt>, <td.ttt>, <td.ttt>, <td.ttt>, <td.ttt>, <td.ttt>, <td.ttt>, <td.ttt>, <td.ttt>, <td.ttt>, <td.ttt>, <td.ttt>, <td.ttt>, <td.ttt>, <td.ttt>, <td.ttt>, <td.ttt>, <td.ttt>, <td.ttt>, <td.ttt>, <td.ttt>, <td.ttt>, <td.ttt>, <td.ttt>, <td.ttt>, <td.ttt>, <td.ttt>, <td.ttt>, <td.ttt>, <td.ttt>, <td.ttt>, <td.ttt>, <td.ttt>, <td.ttt>, <td.ttt>, <td.ttt>, <td.ttt>, <td.ttt>, <td.ttt>, <td.ttt>, <td.ttt>, <td.ttt>, <td.ttt>, <td.ttt>, <td.ttt>, <td.ttt>, <td.ttt>, <td.ttt>, <td.ttt>, <td.ttt>, <td.ttt>, <td.ttt>, <td.ttt>, <td.ttt>, <td.ttt>, <td.ttt>, <td.ttt>, <td.ttt>, <td.ttt>, <td.ttt>, <td.ttt>, <td.ttt>, <td.ttt>, <td.ttt>, <td.ttt>, <td.ttt>, <td.ttt>, <td.ttt>, <td.ttt>, <td.ttt>, <td.ttt>, <td.ttt>, <td.ttt>, <td.ttt>, <td.ttt>, <td.ttt>, <td.ttt>, <td.ttt>, <td.ttt>, <td.ttt>, <td.ttt>, <td.ttt>, <td.ttt>, <td.ttt>, <td.ttt>, <td.ttt>, <td.ttt>, <td.ttt>, <td.ttt>, <td.ttt>, <td.ttt>, <td.ttt>, <td.ttt>, <td.ttt>, <td.ttt>, <td.ttt>, <td.ttt>, <td.ttt>, <td.ttt>, <td.ttt>, <td.ttt>, <td.ttt>, <td.ttt>, <td.ttt>, <td.ttt>, <td>]"
       ]
      }
     ],
     "prompt_number": 79
    },
    {
     "cell_type": "markdown",
     "metadata": {},
     "source": [
      "\u9019\u88e1\u4e5f\u592a\u591a\u500b td, \u597d\u5728\u6211\u5011\u53c8\u767c\u73fe\u6211\u5011\u8981\u7684\u662f\u5bec\u5ea6\u70ba 180 \u7684\u90a3\u500b td\u3002"
     ]
    },
    {
     "cell_type": "code",
     "collapsed": false,
     "input": [
      "target = S(\"td[width='180']\").map(lambda: PyQuery(this).text())"
     ],
     "language": "python",
     "metadata": {},
     "outputs": [],
     "prompt_number": 80
    },
    {
     "cell_type": "code",
     "collapsed": false,
     "input": [
      "for item in target:\n",
      "    print item"
     ],
     "language": "python",
     "metadata": {},
     "outputs": [
      {
       "output_type": "stream",
       "stream": "stdout",
       "text": [
        "\u8cc7\u6599\u65e5\u671f\uff1a103 /12 /01\n",
        "\u55ae\u4f4d\uff1a\u5f35\u6578\n"
       ]
      }
     ],
     "prompt_number": 81
    },
    {
     "cell_type": "markdown",
     "metadata": {},
     "source": [
      "\u63a5\u8457\u4e0b\u4f86\u5c31\u662f\u6211\u5011\u60f3\u8fa6\u6cd5\u6488\u51fa\u90a3 103, 12, 01 \u9019\u500b\u65e5\u671f\u3002\u6211\u5011\u9019\u88e1\u627e\u51fa\u6709\u5169\u500b \"/\" \u7684\u90a3\u7b46\u8cc7\u6599, \u7136\u60f3\u8fa6\u6cd5\u5f9e\u90a3\u7b46\u8cc7\u6599\u627e\u5230\u65e5\u671f\u3002"
     ]
    },
    {
     "cell_type": "code",
     "collapsed": false,
     "input": [
      "date_data = [ xx for xx in target if len(xx.split(\"/\")) >1][0]"
     ],
     "language": "python",
     "metadata": {},
     "outputs": [],
     "prompt_number": 82
    },
    {
     "cell_type": "code",
     "collapsed": false,
     "input": [
      "[y,m,d] = map(lambda xx:int(xx.strip()),date_data.replace(u'\\u8cc7\\u6599\\u65e5\\u671f\\uff1a',\"\").split(\"/\"))"
     ],
     "language": "python",
     "metadata": {},
     "outputs": [],
     "prompt_number": 83
    },
    {
     "cell_type": "markdown",
     "metadata": {},
     "source": [
      "\u9019\u88e1\u7576\u7136\u8acb\u5927\u5bb6\u7528\u5404\u7a2e\u624b\u6cd5\u627e\u5230\u65e5\u671f\u90a3\u4e09\u500b\u6578\u5b57, \u6211\u5011\u4f86\u770b\u770b\u6709\u6c92\u6709\u627e\u5c0d\u3002"
     ]
    },
    {
     "cell_type": "code",
     "collapsed": false,
     "input": [
      "y, m, d"
     ],
     "language": "python",
     "metadata": {},
     "outputs": [
      {
       "metadata": {},
       "output_type": "pyout",
       "prompt_number": 84,
       "text": [
        "(103, 12, 1)"
       ]
      }
     ],
     "prompt_number": 84
    },
    {
     "cell_type": "markdown",
     "metadata": {},
     "source": [
      "### \u628a\u65e5\u671f\u52a0\u5230\u6211\u5011\u7684 DataFrame\n",
      "\n",
      "\u5728\u62ff\u5230\u65e5\u671f\u9019\u4ee4\u4eba\u611f\u52d5\u7684\u4e00\u523b\u4e4b\u5f8c, \u6211\u5011\u7576\u7136\u5c31\u662f\u8981\u628a\u65e5\u671f\u52a0\u9032\u53bb\u3002\u70ba\u4e86\u65e5\u671f\u771f\u7684\u662f\u65e5\u671f (\u9019\u8a71\u600e\u9ebc\u807d\u600e\u9ebc\u602a), \u6211\u5011\u4f7f\u7528 Python \u5167\u5efa\u5957\u4ef6 datetime\u3002"
     ]
    },
    {
     "cell_type": "code",
     "collapsed": false,
     "input": [
      "import datetime"
     ],
     "language": "python",
     "metadata": {},
     "outputs": [],
     "prompt_number": 85
    },
    {
     "cell_type": "markdown",
     "metadata": {},
     "source": [
      "\u5e74\u4efd\u4e0d\u8981\u5fd8\u4e86\u52a0\u4e0a 1911\u3002"
     ]
    },
    {
     "cell_type": "code",
     "collapsed": false,
     "input": [
      "data_datetime = datetime.datetime(y+1911,m,d)"
     ],
     "language": "python",
     "metadata": {},
     "outputs": [],
     "prompt_number": 86
    },
    {
     "cell_type": "code",
     "collapsed": false,
     "input": [
      "data_datetime"
     ],
     "language": "python",
     "metadata": {},
     "outputs": [
      {
       "metadata": {},
       "output_type": "pyout",
       "prompt_number": 87,
       "text": [
        "datetime.datetime(2014, 12, 1, 0, 0)"
       ]
      }
     ],
     "prompt_number": 87
    },
    {
     "cell_type": "markdown",
     "metadata": {},
     "source": [
      "\u611f\u4eba, \u6211\u5011\u771f\u7684\u6210\u529f\u4e86! \u73fe\u5728\u52a0\u5230\u6211\u5011\u7684 DataFrame\u3002"
     ]
    },
    {
     "cell_type": "code",
     "collapsed": false,
     "input": [
      "final_df[\"date\"] = data_datetime"
     ],
     "language": "python",
     "metadata": {},
     "outputs": [],
     "prompt_number": 88
    },
    {
     "cell_type": "code",
     "collapsed": false,
     "input": [
      "final_df.head()"
     ],
     "language": "python",
     "metadata": {},
     "outputs": [
      {
       "html": [
        "<div style=\"max-height:1000px;max-width:1500px;overflow:auto;\">\n",
        "<table border=\"1\" class=\"dataframe\">\n",
        "  <thead>\n",
        "    <tr style=\"text-align: right;\">\n",
        "      <th></th>\n",
        "      <th>agent</th>\n",
        "      <th>buy</th>\n",
        "      <th>sell</th>\n",
        "      <th>stock_id</th>\n",
        "      <th>date</th>\n",
        "    </tr>\n",
        "  </thead>\n",
        "  <tbody>\n",
        "    <tr>\n",
        "      <th>0</th>\n",
        "      <td>  \u5bcc\u90a6\u8b49\u5238</td>\n",
        "      <td> 61</td>\n",
        "      <td> 6</td>\n",
        "      <td> 2451</td>\n",
        "      <td>2014-12-01</td>\n",
        "    </tr>\n",
        "    <tr>\n",
        "      <th>1</th>\n",
        "      <td> \u65b0\u52a0\u5761\u5546\u745e</td>\n",
        "      <td> 44</td>\n",
        "      <td> 1</td>\n",
        "      <td> 2451</td>\n",
        "      <td>2014-12-01</td>\n",
        "    </tr>\n",
        "    <tr>\n",
        "      <th>2</th>\n",
        "      <td>  \u7fa4\u76ca\u91d1\u9f0e</td>\n",
        "      <td> 24</td>\n",
        "      <td> 0</td>\n",
        "      <td> 2451</td>\n",
        "      <td>2014-12-01</td>\n",
        "    </tr>\n",
        "    <tr>\n",
        "      <th>3</th>\n",
        "      <td>  \u570b\u7968\u8b49\u5238</td>\n",
        "      <td> 20</td>\n",
        "      <td> 1</td>\n",
        "      <td> 2451</td>\n",
        "      <td>2014-12-01</td>\n",
        "    </tr>\n",
        "    <tr>\n",
        "      <th>4</th>\n",
        "      <td>  \u51f1\u57fa\u8b49\u5238</td>\n",
        "      <td> 27</td>\n",
        "      <td> 9</td>\n",
        "      <td> 2451</td>\n",
        "      <td>2014-12-01</td>\n",
        "    </tr>\n",
        "  </tbody>\n",
        "</table>\n",
        "</div>"
       ],
       "metadata": {},
       "output_type": "pyout",
       "prompt_number": 89,
       "text": [
        "   agent buy sell stock_id       date\n",
        "0   \u5bcc\u90a6\u8b49\u5238  61    6     2451 2014-12-01\n",
        "1  \u65b0\u52a0\u5761\u5546\u745e  44    1     2451 2014-12-01\n",
        "2   \u7fa4\u76ca\u91d1\u9f0e  24    0     2451 2014-12-01\n",
        "3   \u570b\u7968\u8b49\u5238  20    1     2451 2014-12-01\n",
        "4   \u51f1\u57fa\u8b49\u5238  27    9     2451 2014-12-01"
       ]
      }
     ],
     "prompt_number": 89
    },
    {
     "cell_type": "markdown",
     "metadata": {},
     "source": [
      "### \u6539\u8b8a\u884c\u7684\u9806\u5e8f\n",
      "\n",
      "\u6211\u5011\u771f\u7684\u5b8c\u6210\u4e86! \u73fe\u5728\u6211\u5011\u60f3\u628a\u9806\u5e8f\u6539\u6210 stock_id, date, agent, buy, sell\u3002"
     ]
    },
    {
     "cell_type": "code",
     "collapsed": false,
     "input": [
      "final_df = final_df[[\"stock_id\", \"date\", \"agent\", \"buy\", \"sell\"]] "
     ],
     "language": "python",
     "metadata": {},
     "outputs": [],
     "prompt_number": 90
    },
    {
     "cell_type": "code",
     "collapsed": false,
     "input": [
      "final_df.head()"
     ],
     "language": "python",
     "metadata": {},
     "outputs": [
      {
       "html": [
        "<div style=\"max-height:1000px;max-width:1500px;overflow:auto;\">\n",
        "<table border=\"1\" class=\"dataframe\">\n",
        "  <thead>\n",
        "    <tr style=\"text-align: right;\">\n",
        "      <th></th>\n",
        "      <th>stock_id</th>\n",
        "      <th>date</th>\n",
        "      <th>agent</th>\n",
        "      <th>buy</th>\n",
        "      <th>sell</th>\n",
        "    </tr>\n",
        "  </thead>\n",
        "  <tbody>\n",
        "    <tr>\n",
        "      <th>0</th>\n",
        "      <td> 2451</td>\n",
        "      <td>2014-12-01</td>\n",
        "      <td>  \u5bcc\u90a6\u8b49\u5238</td>\n",
        "      <td> 61</td>\n",
        "      <td> 6</td>\n",
        "    </tr>\n",
        "    <tr>\n",
        "      <th>1</th>\n",
        "      <td> 2451</td>\n",
        "      <td>2014-12-01</td>\n",
        "      <td> \u65b0\u52a0\u5761\u5546\u745e</td>\n",
        "      <td> 44</td>\n",
        "      <td> 1</td>\n",
        "    </tr>\n",
        "    <tr>\n",
        "      <th>2</th>\n",
        "      <td> 2451</td>\n",
        "      <td>2014-12-01</td>\n",
        "      <td>  \u7fa4\u76ca\u91d1\u9f0e</td>\n",
        "      <td> 24</td>\n",
        "      <td> 0</td>\n",
        "    </tr>\n",
        "    <tr>\n",
        "      <th>3</th>\n",
        "      <td> 2451</td>\n",
        "      <td>2014-12-01</td>\n",
        "      <td>  \u570b\u7968\u8b49\u5238</td>\n",
        "      <td> 20</td>\n",
        "      <td> 1</td>\n",
        "    </tr>\n",
        "    <tr>\n",
        "      <th>4</th>\n",
        "      <td> 2451</td>\n",
        "      <td>2014-12-01</td>\n",
        "      <td>  \u51f1\u57fa\u8b49\u5238</td>\n",
        "      <td> 27</td>\n",
        "      <td> 9</td>\n",
        "    </tr>\n",
        "  </tbody>\n",
        "</table>\n",
        "</div>"
       ],
       "metadata": {},
       "output_type": "pyout",
       "prompt_number": 92,
       "text": [
        "  stock_id       date  agent buy sell\n",
        "0     2451 2014-12-01   \u5bcc\u90a6\u8b49\u5238  61    6\n",
        "1     2451 2014-12-01  \u65b0\u52a0\u5761\u5546\u745e  44    1\n",
        "2     2451 2014-12-01   \u7fa4\u76ca\u91d1\u9f0e  24    0\n",
        "3     2451 2014-12-01   \u570b\u7968\u8b49\u5238  20    1\n",
        "4     2451 2014-12-01   \u51f1\u57fa\u8b49\u5238  27    9"
       ]
      }
     ],
     "prompt_number": 92
    },
    {
     "cell_type": "markdown",
     "metadata": {},
     "source": [
      "### \u6539\u8b8a\u8cc7\u6599\u578b\u614b\n",
      "\n",
      "\u6211\u5011\u7684 \"buy\" \u548c \"sell\" \u6b04\u5176\u5be6\u662f\u5b57\u4e32, \u6539\u4ee5\u6539\u6210\u6578\u5b57\u55ce?"
     ]
    },
    {
     "cell_type": "code",
     "collapsed": false,
     "input": [
      "final_df[\"buy\"].apply(int)\n",
      "final_df[\"sell\"].apply(int)"
     ],
     "language": "python",
     "metadata": {},
     "outputs": [
      {
       "metadata": {},
       "output_type": "pyout",
       "prompt_number": 96,
       "text": [
        "0       6\n",
        "1       1\n",
        "2       0\n",
        "3       1\n",
        "4       9\n",
        "5       2\n",
        "6      40\n",
        "7       5\n",
        "8       2\n",
        "9       1\n",
        "10      4\n",
        "11      0\n",
        "12      3\n",
        "13      0\n",
        "14      7\n",
        "15    107\n",
        "16     66\n",
        "17     63\n",
        "18     27\n",
        "19     88\n",
        "20      9\n",
        "21      7\n",
        "22      6\n",
        "23      1\n",
        "24     10\n",
        "25      1\n",
        "26      0\n",
        "27      0\n",
        "28      0\n",
        "29      0\n",
        "Name: sell, dtype: int64"
       ]
      }
     ],
     "prompt_number": 96
    },
    {
     "cell_type": "markdown",
     "metadata": {},
     "source": [
      "## \u4e8c\u3001\u5132\u5b58\u6211\u5011\u7684\u6210\u679c\n",
      "\n",
      "\u6211\u5011\u7576\u7136\u4e0d\u60f3\u6bcf\u6b21\u90fd\u628a\u4e0a\u9762\u7684\u52d5\u4f5c\u518d\u4f86\u4e00\u6b21, \u6240\u4ee5\u4f86\u5b78\u600e\u9ebc\u5132\u5b58\u6211\u5011\u7684\u6230\u679c!"
     ]
    },
    {
     "cell_type": "markdown",
     "metadata": {},
     "source": [
      "### CSV \u6a94\n",
      "\u5b58\u6210 CSV \u6a94\u5927\u6982\u662f\u6700\u5bb9\u6613\u6700\u7c21\u55ae\u7684, \u6211\u5011\u4e0d\u6e96\u5099\u628a index \u884c\u5b58\u4e0b\u53bb, \u9084\u6709\u8981\u8a18\u5f97\u4e0b encoding \u662f UTF-8..."
     ]
    },
    {
     "cell_type": "code",
     "collapsed": false,
     "input": [
      "final_df.to_csv(\"stock.csv\", encoding=\"utf8\", index=False)"
     ],
     "language": "python",
     "metadata": {},
     "outputs": [],
     "prompt_number": 98
    },
    {
     "cell_type": "markdown",
     "metadata": {},
     "source": [
      "\u6211\u5011\u5728 IPython \u7528 \"!\" \u53ef\u4ee5\u57f7\u884c\u7cfb\u7d71\u6307\u4ee4, \u6211\u5011\u4f86\u6aa2\u67e5\u525b\u525b\u5b58\u7684\u6a94\u6848\u3002 (Linux \u6216 Mac)"
     ]
    },
    {
     "cell_type": "code",
     "collapsed": false,
     "input": [
      "!cat stock.csv"
     ],
     "language": "python",
     "metadata": {},
     "outputs": [
      {
       "output_type": "stream",
       "stream": "stdout",
       "text": [
        "stock_id,date,agent,buy,sell\r\n",
        "2451,2014-12-01 00:00:00,\u5bcc\u90a6\u8b49\u5238,61,6\r\n",
        "2451,2014-12-01 00:00:00,\u65b0\u52a0\u5761\u5546\u745e,44,1\r\n",
        "2451,2014-12-01 00:00:00,\u7fa4\u76ca\u91d1\u9f0e,24,0\r\n",
        "2451,2014-12-01 00:00:00,\u570b\u7968\u8b49\u5238,20,1\r\n",
        "2451,2014-12-01 00:00:00,\u51f1\u57fa\u8b49\u5238,27,9\r\n",
        "2451,2014-12-01 00:00:00,\u65e5\u76db\u8b49\u5238,17,2\r\n",
        "2451,2014-12-01 00:00:00,\u7f8e\u5546\u9ad8\u76db,54,40\r\n",
        "2451,2014-12-01 00:00:00,\u81fa\u9280,14,5\r\n",
        "2451,2014-12-01 00:00:00,\u7389\u5c71\u8b49\u5238,9,2\r\n",
        "2451,2014-12-01 00:00:00,\u5143\u5bcc,8,1\r\n",
        "2451,2014-12-01 00:00:00,\u65b0\u5149\u8b49\u5238,10,4\r\n",
        "2451,2014-12-01 00:00:00,\u7f8e\u6797,6,0\r\n",
        "2451,2014-12-01 00:00:00,\u7d71\u4e00,8,3\r\n",
        "2451,2014-12-01 00:00:00,\u7b2c\u4e00\u91d1,5,0\r\n",
        "2451,2014-12-01 00:00:00,\u5eb7\u548c\u8b49\u5238,11,7\r\n",
        "2451,2014-12-01 00:00:00,\u6c38\u8c50\u91d1\u8b49\u5238,7,107\r\n",
        "2451,2014-12-01 00:00:00,\u6e2f\u5546\u9ea5\u683c\u91cc,0,66\r\n",
        "2451,2014-12-01 00:00:00,\u5146\u8c50\u8b49\u5238,25,63\r\n",
        "2451,2014-12-01 00:00:00,\u745e\u58eb\u4fe1\u8cb8,0,27\r\n",
        "2451,2014-12-01 00:00:00,\u53f0\u7063\u6469\u6839\u58eb,75,88\r\n",
        "2451,2014-12-01 00:00:00,\u6cd5\u9280\u5df4\u9ece,0,9\r\n",
        "2451,2014-12-01 00:00:00,\u6e2f\u5546\u6cd5\u570b\u8208,4,7\r\n",
        "2451,2014-12-01 00:00:00,\u570b\u6cf0\u8b49\u5238,4,6\r\n",
        "2451,2014-12-01 00:00:00,\u4e9e\u6771,0,1\r\n",
        "2451,2014-12-01 00:00:00,\u6e2f\u5546\u5fb7\u610f\u5fd7,9,10\r\n",
        "2451,2014-12-01 00:00:00,\u6469\u6839\u5927\u901a,0,1\r\n",
        "2451,2014-12-01 00:00:00,\u53f0\u7063\u6771\u65b9\u532f,0,0\r\n",
        "2451,2014-12-01 00:00:00,\u65e5\u8302,0,0\r\n",
        "2451,2014-12-01 00:00:00,\u5168\u6cf0\u8b49\u5238,0,0\r\n",
        "2451,2014-12-01 00:00:00,\u91d1\u6e2f\u8b49\u5238,0,0\r\n"
       ]
      }
     ],
     "prompt_number": 99
    },
    {
     "cell_type": "markdown",
     "metadata": {},
     "source": [
      "### \u4f7f\u7528 sqlite!\n",
      "\u5c0f\u5c0f\u7684\u8cc7\u6599\u5b58\u6210 CSV \u6a94\u7576\u7136\u6c92\u6709\u4ec0\u9ebc\u554f\u984c, \u4f46\u4ee5\u5f8c\u8cc7\u6599\u591a\u4e86, \u6216\u662f\u8981\u5c0d\u4e0d\u540c\u8cc7\u6599\u9593\u505a\u5206\u6790, \u4e5f\u8a31\u4f7f\u7528\u771f\u6b63\u7684\u8cc7\u6599\u5eab\u6703\u6bd4\u8f03\u65b9\u4fbf\u4e00\u9ede\u3002\u554f\u984c\u662f\u7ba1\u8cc7\u6599\u5eab\u7684\u4f3a\u670d\u5668 (MySQL) \u901a\u5e38\u8981\u88dd\u8981\u8dd1\u8981\u7dad\u8b77\u6709\u9ede\u9ebb\u7169, \u597d\u5728\u6709\u500b\u4ec0\u9ebc\u90fd\u4e0d\u7528\u88dd\u7684 sqlite, \u9019\u4ec0\u9ebc\u4e5f\u4e0d\u7528\u88dd, \u53ef\u4ee5\u8b93\u6211\u5011\u81f3\u5c11\u8a66\u8a66\u8cc7\u6599\u5eab\u7684\u611f\u89ba\u3002\n",
      "\n",
      "\u6211\u5011 import sqlite3 \u4e4b\u5f8c, \u5c31\u5efa\u4e00\u500b, \u6bd4\u5982\u8aaa\u53eb nccu_crawler.db \u7684\u8cc7\u6599\u5eab\u3002\u4e00\u500b\u8cc7\u6599\u5eab\u53ef\u4ee5\u6709\u5f88\u591a\u8868\u683c\u3002"
     ]
    },
    {
     "cell_type": "code",
     "collapsed": false,
     "input": [
      "import sqlite3\n",
      "conn = sqlite3.connect('nccu_crawler.db')"
     ],
     "language": "python",
     "metadata": {},
     "outputs": [],
     "prompt_number": 40
    },
    {
     "cell_type": "code",
     "collapsed": false,
     "input": [
      "pd.__version__"
     ],
     "language": "python",
     "metadata": {},
     "outputs": [
      {
       "metadata": {},
       "output_type": "pyout",
       "prompt_number": 43,
       "text": [
        "'0.15.1'"
       ]
      }
     ],
     "prompt_number": 43
    },
    {
     "cell_type": "markdown",
     "metadata": {},
     "source": [
      "\u9644\u5e36\u8aaa\u660e, \u6211\u70ba\u4ec0\u9ebc\u6c92\u982d\u6c92\u8166\u7684\u6aa2\u67e5\u4e86 Pandas \u7684\u7248\u672c, \u56e0\u70ba\u5728\u5927\u5e2b\u4e0a\u8ab2\u6642, \u767c\u73fe\u6211\u9023\u4e0d\u4e0a sqlite, \u7136\u5f8c\u600e\u9ebc\u6539\u4e5f\u90fd\u9084\u662f\u4e0d\u884c\u3002\u67e5\u4e86\u6211\u7684 Pandas \u7248\u672c\u662f 0.14.0, \u5f8c\u4f86\u66f4\u65b0\u5230 0.15.1, \u5c31\u53ef\u4ee5\u4e86!\n",
      "\n",
      "\u7528 Anaconda \u7248\u7684 Python \u7684\u8a71, \u53ef\u4ee5\u7528 conda \u4f86\u66f4\u65b0\u3002\u901a\u5e38\u5148\u505a\n",
      "\n",
      "    conda update conda\n",
      "    \n",
      "\u7136\u5f8c\u518d\u66f4\u65b0 Pandas\n",
      "\n",
      "    conda update pandas"
     ]
    },
    {
     "cell_type": "code",
     "collapsed": false,
     "input": [
      "final_df.to_sql(name = \"stock_major\", con=conn, if_exists=\"append\")"
     ],
     "language": "python",
     "metadata": {},
     "outputs": [],
     "prompt_number": 42
    },
    {
     "cell_type": "markdown",
     "metadata": {},
     "source": [
      "\u9019\u88e1\u7684\n",
      "\n",
      "* name \u662f\u7d66\u6211\u5011\u8981\u5b58\u7684 table \u4e00\u500b\u540d\u5b57\n",
      "* con \u6307\u5b9a\u8981\u9023\u5230\u54ea\u500b\u8cc7\u6599\u5eab\n",
      "* if_exists \u662f\u6709\u9019\u500b\u8868\u683c\u7684\u8a71\u6211\u5011\u8981\u600e\u9ebc\u8fa6, \u7528 append \u662f\u6700\u5e38\u898b\u7684\u65b9\u5f0f"
     ]
    },
    {
     "cell_type": "markdown",
     "metadata": {},
     "source": [
      "\u518d\u4f86\u6211\u5011\u628a\u8cc7\u6599\u8b80\u56de\u4f86\u770b\u770b\u3002"
     ]
    },
    {
     "cell_type": "code",
     "collapsed": false,
     "input": [
      "read_sql_df = pd.read_sql(sql=\"select * from stock_major\",con=conn)"
     ],
     "language": "python",
     "metadata": {},
     "outputs": [],
     "prompt_number": 51
    },
    {
     "cell_type": "code",
     "collapsed": false,
     "input": [
      "read_sql_df.head()"
     ],
     "language": "python",
     "metadata": {},
     "outputs": [
      {
       "html": [
        "<div style=\"max-height:1000px;max-width:1500px;overflow:auto;\">\n",
        "<table border=\"1\" class=\"dataframe\">\n",
        "  <thead>\n",
        "    <tr style=\"text-align: right;\">\n",
        "      <th></th>\n",
        "      <th>index</th>\n",
        "      <th>stock_id</th>\n",
        "      <th>date</th>\n",
        "      <th>agent</th>\n",
        "      <th>buy</th>\n",
        "      <th>sell</th>\n",
        "    </tr>\n",
        "  </thead>\n",
        "  <tbody>\n",
        "    <tr>\n",
        "      <th>0</th>\n",
        "      <td> 0</td>\n",
        "      <td> 2451</td>\n",
        "      <td> 2014-12-01 00:00:00</td>\n",
        "      <td>  \u5bcc\u90a6\u8b49\u5238</td>\n",
        "      <td> 61</td>\n",
        "      <td> 6</td>\n",
        "    </tr>\n",
        "    <tr>\n",
        "      <th>1</th>\n",
        "      <td> 1</td>\n",
        "      <td> 2451</td>\n",
        "      <td> 2014-12-01 00:00:00</td>\n",
        "      <td> \u65b0\u52a0\u5761\u5546\u745e</td>\n",
        "      <td> 44</td>\n",
        "      <td> 1</td>\n",
        "    </tr>\n",
        "    <tr>\n",
        "      <th>2</th>\n",
        "      <td> 2</td>\n",
        "      <td> 2451</td>\n",
        "      <td> 2014-12-01 00:00:00</td>\n",
        "      <td>  \u7fa4\u76ca\u91d1\u9f0e</td>\n",
        "      <td> 24</td>\n",
        "      <td> 0</td>\n",
        "    </tr>\n",
        "    <tr>\n",
        "      <th>3</th>\n",
        "      <td> 3</td>\n",
        "      <td> 2451</td>\n",
        "      <td> 2014-12-01 00:00:00</td>\n",
        "      <td>  \u570b\u7968\u8b49\u5238</td>\n",
        "      <td> 20</td>\n",
        "      <td> 1</td>\n",
        "    </tr>\n",
        "    <tr>\n",
        "      <th>4</th>\n",
        "      <td> 4</td>\n",
        "      <td> 2451</td>\n",
        "      <td> 2014-12-01 00:00:00</td>\n",
        "      <td>  \u51f1\u57fa\u8b49\u5238</td>\n",
        "      <td> 27</td>\n",
        "      <td> 9</td>\n",
        "    </tr>\n",
        "  </tbody>\n",
        "</table>\n",
        "</div>"
       ],
       "metadata": {},
       "output_type": "pyout",
       "prompt_number": 53,
       "text": [
        "   index stock_id                 date  agent buy sell\n",
        "0      0     2451  2014-12-01 00:00:00   \u5bcc\u90a6\u8b49\u5238  61    6\n",
        "1      1     2451  2014-12-01 00:00:00  \u65b0\u52a0\u5761\u5546\u745e  44    1\n",
        "2      2     2451  2014-12-01 00:00:00   \u7fa4\u76ca\u91d1\u9f0e  24    0\n",
        "3      3     2451  2014-12-01 00:00:00   \u570b\u7968\u8b49\u5238  20    1\n",
        "4      4     2451  2014-12-01 00:00:00   \u51f1\u57fa\u8b49\u5238  27    9"
       ]
      }
     ],
     "prompt_number": 53
    },
    {
     "cell_type": "markdown",
     "metadata": {},
     "source": [
      "### \u4f7f\u7528 MongoDB\n",
      "\n",
      "\u525b\u525b\u6211\u5011\u7528\u4e86 SQL \u578b\u7684\u8cc7\u6599\u5eab, \u73fe\u5728\u63db\u73fe\u5728\u5f88\u7d05\u7684 NoSQL \u578b\u7684\u8cc7\u6599\u5eab\u8a66\u8a66\u3002NoSQL \u7684\u4e00\u500b\u8457\u540d\u4f3a\u670d\u5668\u662f MonogoDB:\n",
      "\n",
      "[MongoDB \u5b98\u7db2](http://www.mongodb.org/)\n",
      "\n",
      "\u73fe\u5728\u7576\u7136\u6c92\u6709\u8981\u8a8d\u771f\u8a0e\u8ad6 SQL vs NoSQL \u9019\u7a2e\u554f\u984c, \u5c31\u662f\u5148\u77e5\u9053\u53cd\u6b63\u4f60\u9700\u8981\u7528\u54ea\u7a2e\u90fd\u53ef\u4ee5\u3002\u5c31\u5148\u88dd\u597d MongoDB \u7684 server, \u7136\u5f8c\u8b93\u5b83\u555f\u52d5\u3002\n",
      "\n",
      "\u5b89\u88dd\u597d\u7684 MongoDB \u901a\u5e38\u662f\u5728\u7d42\u7aef\u6a5f\u4e2d\u7528\n",
      "\n",
      "    mongod\n",
      "    \n",
      "\u555f\u52d5, \u7136\u5f8c\u5982\u679c\u4f60\u60f3\u8981\u5728\u7d42\u7aef\u6a5f\u770b\u3001\u63a7\u5236 MongoDB, \u5c31\u518d\u4e0b\u9054\n",
      "\n",
      "    mongo\n",
      "    \n",
      "\u6307\u4ee4\u3002"
     ]
    },
    {
     "cell_type": "code",
     "collapsed": false,
     "input": [
      "from pymongo import MongoClient"
     ],
     "language": "python",
     "metadata": {},
     "outputs": [],
     "prompt_number": 100
    },
    {
     "cell_type": "code",
     "collapsed": false,
     "input": [
      "mg_cli = MongoClient()"
     ],
     "language": "python",
     "metadata": {},
     "outputs": [],
     "prompt_number": 101
    },
    {
     "cell_type": "markdown",
     "metadata": {},
     "source": [
      "\u5148\u4f86\u8a66\u8a66\u662f\u4e0d\u662f\u771f\u7684\u9023\u4e0a, \u53ef\u4ee5\u6b63\u5e38\u4f7f\u7528\u4e86\u3002\u6211\u5011\u5c31\u81ea\u5df1\u5b9a\u4e00\u500b\u8cc7\u6599\u5eab\u540d\u7a31, \u9019\u500b\u8cc7\u6599\u5eab\u6211\u5c31\u53eb mydb \u8cc7\u6599\u5eab, \u88e1\u9762\u53ef\u4ee5\u6709\u597d\u5e7e\u500b table, \u55ef, \u5728 MongoDB \u88e1\u6211\u5011\u662f\u53eb collections, \u56e0\u70ba\u6bd4 table \u9084\u8981\u66f4\u4e00\u822c, \u5c31\u5b58\u6210\u5b57\u5178\u6a94\u7684\u683c\u5f0f\u90a3\u6a23\u3002\u56e0\u5728\u6211\u5011\u5148\u53eb\u6211\u5011\u7684 collection \u53eb test, \u53ef\u4ee5\u5b58\u5165\u7684\u6771\u897f\u5c31\u662f\u4e00\u5806\u5b57\u5178\u683c\u5f0f\u7684\u6771\u897f\u3002"
     ]
    },
    {
     "cell_type": "code",
     "collapsed": false,
     "input": [
      "mg_cli.mydb.test.insert({\"a\":1, \"b\":2}) "
     ],
     "language": "python",
     "metadata": {},
     "outputs": [
      {
       "metadata": {},
       "output_type": "pyout",
       "prompt_number": 102,
       "text": [
        "ObjectId('547d5ca98d917674f85f0f66')"
       ]
      }
     ],
     "prompt_number": 102
    },
    {
     "cell_type": "markdown",
     "metadata": {},
     "source": [
      "\u6211\u5011\u5148\u4f86\u8a66\u8a66\u770b\u628a\u6211\u5011\u7684 DataFrame \u5f04\u6210\u5b57\u5178\u6a94\u7684\u6a23\u5b50, \u6e96\u5099\u6b63\u5f0f\u9935\u5230\u6211\u5011\u7684 mydb \u8cc7\u6599\u5eab\u88e1\u3002"
     ]
    },
    {
     "cell_type": "code",
     "collapsed": false,
     "input": [
      "final_df.to_dict(orient='records')"
     ],
     "language": "python",
     "metadata": {},
     "outputs": [
      {
       "metadata": {},
       "output_type": "pyout",
       "prompt_number": 103,
       "text": [
        "[{'agent': u'\\u5bcc\\u90a6\\u8b49\\u5238',\n",
        "  'buy': u'61',\n",
        "  'date': Timestamp('2014-12-01 00:00:00'),\n",
        "  'sell': u'6',\n",
        "  'stock_id': '2451'},\n",
        " {'agent': u'\\u65b0\\u52a0\\u5761\\u5546\\u745e',\n",
        "  'buy': u'44',\n",
        "  'date': Timestamp('2014-12-01 00:00:00'),\n",
        "  'sell': u'1',\n",
        "  'stock_id': '2451'},\n",
        " {'agent': u'\\u7fa4\\u76ca\\u91d1\\u9f0e',\n",
        "  'buy': u'24',\n",
        "  'date': Timestamp('2014-12-01 00:00:00'),\n",
        "  'sell': u'0',\n",
        "  'stock_id': '2451'},\n",
        " {'agent': u'\\u570b\\u7968\\u8b49\\u5238',\n",
        "  'buy': u'20',\n",
        "  'date': Timestamp('2014-12-01 00:00:00'),\n",
        "  'sell': u'1',\n",
        "  'stock_id': '2451'},\n",
        " {'agent': u'\\u51f1\\u57fa\\u8b49\\u5238',\n",
        "  'buy': u'27',\n",
        "  'date': Timestamp('2014-12-01 00:00:00'),\n",
        "  'sell': u'9',\n",
        "  'stock_id': '2451'},\n",
        " {'agent': u'\\u65e5\\u76db\\u8b49\\u5238',\n",
        "  'buy': u'17',\n",
        "  'date': Timestamp('2014-12-01 00:00:00'),\n",
        "  'sell': u'2',\n",
        "  'stock_id': '2451'},\n",
        " {'agent': u'\\u7f8e\\u5546\\u9ad8\\u76db',\n",
        "  'buy': u'54',\n",
        "  'date': Timestamp('2014-12-01 00:00:00'),\n",
        "  'sell': u'40',\n",
        "  'stock_id': '2451'},\n",
        " {'agent': u'\\u81fa\\u9280',\n",
        "  'buy': u'14',\n",
        "  'date': Timestamp('2014-12-01 00:00:00'),\n",
        "  'sell': u'5',\n",
        "  'stock_id': '2451'},\n",
        " {'agent': u'\\u7389\\u5c71\\u8b49\\u5238',\n",
        "  'buy': u'9',\n",
        "  'date': Timestamp('2014-12-01 00:00:00'),\n",
        "  'sell': u'2',\n",
        "  'stock_id': '2451'},\n",
        " {'agent': u'\\u5143\\u5bcc',\n",
        "  'buy': u'8',\n",
        "  'date': Timestamp('2014-12-01 00:00:00'),\n",
        "  'sell': u'1',\n",
        "  'stock_id': '2451'},\n",
        " {'agent': u'\\u65b0\\u5149\\u8b49\\u5238',\n",
        "  'buy': u'10',\n",
        "  'date': Timestamp('2014-12-01 00:00:00'),\n",
        "  'sell': u'4',\n",
        "  'stock_id': '2451'},\n",
        " {'agent': u'\\u7f8e\\u6797',\n",
        "  'buy': u'6',\n",
        "  'date': Timestamp('2014-12-01 00:00:00'),\n",
        "  'sell': u'0',\n",
        "  'stock_id': '2451'},\n",
        " {'agent': u'\\u7d71\\u4e00',\n",
        "  'buy': u'8',\n",
        "  'date': Timestamp('2014-12-01 00:00:00'),\n",
        "  'sell': u'3',\n",
        "  'stock_id': '2451'},\n",
        " {'agent': u'\\u7b2c\\u4e00\\u91d1',\n",
        "  'buy': u'5',\n",
        "  'date': Timestamp('2014-12-01 00:00:00'),\n",
        "  'sell': u'0',\n",
        "  'stock_id': '2451'},\n",
        " {'agent': u'\\u5eb7\\u548c\\u8b49\\u5238',\n",
        "  'buy': u'11',\n",
        "  'date': Timestamp('2014-12-01 00:00:00'),\n",
        "  'sell': u'7',\n",
        "  'stock_id': '2451'},\n",
        " {'agent': u'\\u6c38\\u8c50\\u91d1\\u8b49\\u5238',\n",
        "  'buy': u'7',\n",
        "  'date': Timestamp('2014-12-01 00:00:00'),\n",
        "  'sell': u'107',\n",
        "  'stock_id': '2451'},\n",
        " {'agent': u'\\u6e2f\\u5546\\u9ea5\\u683c\\u91cc',\n",
        "  'buy': u'0',\n",
        "  'date': Timestamp('2014-12-01 00:00:00'),\n",
        "  'sell': u'66',\n",
        "  'stock_id': '2451'},\n",
        " {'agent': u'\\u5146\\u8c50\\u8b49\\u5238',\n",
        "  'buy': u'25',\n",
        "  'date': Timestamp('2014-12-01 00:00:00'),\n",
        "  'sell': u'63',\n",
        "  'stock_id': '2451'},\n",
        " {'agent': u'\\u745e\\u58eb\\u4fe1\\u8cb8',\n",
        "  'buy': u'0',\n",
        "  'date': Timestamp('2014-12-01 00:00:00'),\n",
        "  'sell': u'27',\n",
        "  'stock_id': '2451'},\n",
        " {'agent': u'\\u53f0\\u7063\\u6469\\u6839\\u58eb',\n",
        "  'buy': u'75',\n",
        "  'date': Timestamp('2014-12-01 00:00:00'),\n",
        "  'sell': u'88',\n",
        "  'stock_id': '2451'},\n",
        " {'agent': u'\\u6cd5\\u9280\\u5df4\\u9ece',\n",
        "  'buy': u'0',\n",
        "  'date': Timestamp('2014-12-01 00:00:00'),\n",
        "  'sell': u'9',\n",
        "  'stock_id': '2451'},\n",
        " {'agent': u'\\u6e2f\\u5546\\u6cd5\\u570b\\u8208',\n",
        "  'buy': u'4',\n",
        "  'date': Timestamp('2014-12-01 00:00:00'),\n",
        "  'sell': u'7',\n",
        "  'stock_id': '2451'},\n",
        " {'agent': u'\\u570b\\u6cf0\\u8b49\\u5238',\n",
        "  'buy': u'4',\n",
        "  'date': Timestamp('2014-12-01 00:00:00'),\n",
        "  'sell': u'6',\n",
        "  'stock_id': '2451'},\n",
        " {'agent': u'\\u4e9e\\u6771',\n",
        "  'buy': u'0',\n",
        "  'date': Timestamp('2014-12-01 00:00:00'),\n",
        "  'sell': u'1',\n",
        "  'stock_id': '2451'},\n",
        " {'agent': u'\\u6e2f\\u5546\\u5fb7\\u610f\\u5fd7',\n",
        "  'buy': u'9',\n",
        "  'date': Timestamp('2014-12-01 00:00:00'),\n",
        "  'sell': u'10',\n",
        "  'stock_id': '2451'},\n",
        " {'agent': u'\\u6469\\u6839\\u5927\\u901a',\n",
        "  'buy': u'0',\n",
        "  'date': Timestamp('2014-12-01 00:00:00'),\n",
        "  'sell': u'1',\n",
        "  'stock_id': '2451'},\n",
        " {'agent': u'\\u53f0\\u7063\\u6771\\u65b9\\u532f',\n",
        "  'buy': u'0',\n",
        "  'date': Timestamp('2014-12-01 00:00:00'),\n",
        "  'sell': u'0',\n",
        "  'stock_id': '2451'},\n",
        " {'agent': u'\\u65e5\\u8302',\n",
        "  'buy': u'0',\n",
        "  'date': Timestamp('2014-12-01 00:00:00'),\n",
        "  'sell': u'0',\n",
        "  'stock_id': '2451'},\n",
        " {'agent': u'\\u5168\\u6cf0\\u8b49\\u5238',\n",
        "  'buy': u'0',\n",
        "  'date': Timestamp('2014-12-01 00:00:00'),\n",
        "  'sell': u'0',\n",
        "  'stock_id': '2451'},\n",
        " {'agent': u'\\u91d1\\u6e2f\\u8b49\\u5238',\n",
        "  'buy': u'0',\n",
        "  'date': Timestamp('2014-12-01 00:00:00'),\n",
        "  'sell': u'0',\n",
        "  'stock_id': '2451'}]"
       ]
      }
     ],
     "prompt_number": 103
    },
    {
     "cell_type": "markdown",
     "metadata": {},
     "source": [
      "\u9019\u662f\u6a19\u6e96\u4e00\u500b collection \u7684\u6a23\u5b50, \u5c31\u662f\u4e00\u5806 (\u4e00\u500b list) \u7684\u5b57\u5178, \u6bcf\u500b\u5b57\u5178\u90fd\u662f\u4e00\u7b46\u8cc7\u6599\u3002"
     ]
    },
    {
     "cell_type": "markdown",
     "metadata": {},
     "source": [
      "\u518d\u4f86\u6211\u5011\u60f3\u628a\u9019\u500b collection \u53eb\u505a major_stock, \u653e\u5230\u6211\u5011\u7684 mydb \u88e1\u3002\u6211\u5011\u5148 drop \u539f\u4f86\u8cc7\u6599, \u4ee5\u514d\u91cd\u8986\u57f7\u884c\u7684\u8a71\u4e00\u76f4\u628a\u8cc7\u6599\u52a0\u4e0a\u53bb\u3002"
     ]
    },
    {
     "cell_type": "code",
     "collapsed": false,
     "input": [
      "mg_cli.mydb.stock_major.drop()"
     ],
     "language": "python",
     "metadata": {},
     "outputs": [],
     "prompt_number": 106
    },
    {
     "cell_type": "code",
     "collapsed": false,
     "input": [
      "mg_cli.mydb.stock_major.insert(final_df.to_dict(orient='records'))"
     ],
     "language": "python",
     "metadata": {},
     "outputs": [
      {
       "metadata": {},
       "output_type": "pyout",
       "prompt_number": 107,
       "text": [
        "[ObjectId('547d61a68d917674f85f0f85'),\n",
        " ObjectId('547d61a68d917674f85f0f86'),\n",
        " ObjectId('547d61a68d917674f85f0f87'),\n",
        " ObjectId('547d61a68d917674f85f0f88'),\n",
        " ObjectId('547d61a68d917674f85f0f89'),\n",
        " ObjectId('547d61a68d917674f85f0f8a'),\n",
        " ObjectId('547d61a68d917674f85f0f8b'),\n",
        " ObjectId('547d61a68d917674f85f0f8c'),\n",
        " ObjectId('547d61a68d917674f85f0f8d'),\n",
        " ObjectId('547d61a68d917674f85f0f8e'),\n",
        " ObjectId('547d61a68d917674f85f0f8f'),\n",
        " ObjectId('547d61a68d917674f85f0f90'),\n",
        " ObjectId('547d61a68d917674f85f0f91'),\n",
        " ObjectId('547d61a68d917674f85f0f92'),\n",
        " ObjectId('547d61a68d917674f85f0f93'),\n",
        " ObjectId('547d61a68d917674f85f0f94'),\n",
        " ObjectId('547d61a68d917674f85f0f95'),\n",
        " ObjectId('547d61a68d917674f85f0f96'),\n",
        " ObjectId('547d61a68d917674f85f0f97'),\n",
        " ObjectId('547d61a68d917674f85f0f98'),\n",
        " ObjectId('547d61a68d917674f85f0f99'),\n",
        " ObjectId('547d61a68d917674f85f0f9a'),\n",
        " ObjectId('547d61a68d917674f85f0f9b'),\n",
        " ObjectId('547d61a68d917674f85f0f9c'),\n",
        " ObjectId('547d61a68d917674f85f0f9d'),\n",
        " ObjectId('547d61a68d917674f85f0f9e'),\n",
        " ObjectId('547d61a68d917674f85f0f9f'),\n",
        " ObjectId('547d61a68d917674f85f0fa0'),\n",
        " ObjectId('547d61a68d917674f85f0fa1'),\n",
        " ObjectId('547d61a68d917674f85f0fa2')]"
       ]
      }
     ],
     "prompt_number": 107
    },
    {
     "cell_type": "markdown",
     "metadata": {},
     "source": [
      "## \u5c0f\u7d50\n",
      "\n",
      "\u5230\u9019\u88e1\u6211\u5011\u5df2\u7d93\u5b8c\u6210\u4e00\u6b21\u7db2\u9801\u722c\u87f2\u4e09\u90e8\u66f2\u5b8c\u6574\u7a0b\u5e8f:\n",
      "\n",
      "* connector: \u6211\u5011\u7528 request \u9023\u4e0a\u4e86\u7db2\u9801\n",
      "* parser: \u4f7f\u7528 Chrome \u5206\u6790\u4e86\u6211\u5011\u8981\u7684\u8cc7\u8a0a, \u4f7f\u7528 PyQuery + Pandas \u53bb\u628a\u6211\u5011\u8981\u7684\u6771\u897f\u627e\u51fa\u4f86\u4e26\u6574\u7406\u597d\u3002\n",
      "* database: \u5b58\u6210 CSV \u6a94, \u6216\u662f\u7528 sqllite3 \u5b58\u6210\u95dc\u9023\u5f0f\u8cc7\u6599\u5eab, \u6700\u5f8c\u793a\u7bc4\u4e86 MongoDB \u5b58\u6210 NoSQL \u7684\u8cc7\u6599\u5eab\u578b\u614b\u3002\u7576\u7136\u901a\u5e38\u6211\u5011\u9078\u4e00\u500b\u65b9\u5f0f\u5b58\u5c31\u597d\u3002"
     ]
    },
    {
     "cell_type": "markdown",
     "metadata": {},
     "source": [
      "### \u4e09\u3001PCHome \u7684\u5546\u54c1\u641c\u5c0b\n",
      "\n",
      "\u6211\u5011\u6e96\u5099\u53bb\u6536\u5c0b PCHome \u5546\u54c1\u8cc7\u8a0a, \u6bd4\u5982\u8aaa\u6211\u5011\u60f3\u77e5\u9053\u5404\u7522\u54c1\u898f\u683c\u7684\u6bd4\u8f03\u5566, \u6216\u662f\u50f9\u683c\u4ec0\u9ebc\u6642\u5019\u4e0b\u4f86\u6211\u5011\u53ef\u4ee5\u53bb\u6557\u5bb6... \n",
      "\n",
      "\u4f8b\u5982\u8aaa\u3002"
     ]
    },
    {
     "cell_type": "code",
     "collapsed": false,
     "input": [
      "res_pchome = requests.get(\"http://24h.pchome.com.tw/prod/DGALTV-A9005J0LX\")"
     ],
     "language": "python",
     "metadata": {},
     "outputs": [],
     "prompt_number": 108
    },
    {
     "cell_type": "code",
     "collapsed": false,
     "input": [
      "res_pchome.encoding"
     ],
     "language": "python",
     "metadata": {},
     "outputs": [
      {
       "metadata": {},
       "output_type": "pyout",
       "prompt_number": 109,
       "text": [
        "'utf-8'"
       ]
      }
     ],
     "prompt_number": 109
    },
    {
     "cell_type": "markdown",
     "metadata": {},
     "source": [
      "\u9019\u6642\u5728 Chrome \u7528\u6aa2\u67e5\u5143\u7d20, \u6211\u5011\u5230 Console \u90a3\u53ef\u4ee5\u4e0b\u4e00\u4e9b\u6307\u4ee4 (\u5f88\u9177!) \u6211\u5011\u641c\u5c0b\u4e00\u4e0b\u9019\u5169\u500b tags:\n",
      "\n",
      "    document.querySelectorAll(\"p\")\n",
      "    document.querySelectorAll(\"p.title.clearfix\")\n",
      "\n",
      "\u7d50\u679c\u770b\u5f97\u5230, \u65bc\u662f\u6211\u5011\u5c31\u60f3\u8aaa\u6293\u56de\u4f86\u7684\u6587\u5b57\u4e5f\u9019\u6a23\u4f86\u5c31\u53ef\u4ee5, \u65bc\u662f...\n"
     ]
    },
    {
     "cell_type": "code",
     "collapsed": false,
     "input": [
      "S = PyQuery(res_pchome.text)"
     ],
     "language": "python",
     "metadata": {},
     "outputs": [],
     "prompt_number": 111
    },
    {
     "cell_type": "code",
     "collapsed": false,
     "input": [
      "S(\"p.title.clearfix\").outerHtml() "
     ],
     "language": "python",
     "metadata": {},
     "outputs": [
      {
       "metadata": {},
       "output_type": "pyout",
       "prompt_number": 112,
       "text": [
        "u'<p id=\"NickContainer\" class=\"title clearfix\"></p>'"
       ]
      }
     ],
     "prompt_number": 112
    },
    {
     "cell_type": "markdown",
     "metadata": {},
     "source": [
      "\u7d50\u679c\u6c92\u6709\u5167\u5bb9!! \u6211\u5011\u81ea\u5df1\u770b\u7684\u6642\u5019\u660e\u660e\u6709\u770b\u5230\u554a!!"
     ]
    },
    {
     "cell_type": "markdown",
     "metadata": {},
     "source": [
      "### \u91cd\u9ede\n",
      "\n",
      "\u5e38\u898b\u6703\u653e\u8cc7\u6599\u7684\u5730\u65b9 (\u4eca\u5929\u4e0d\u662f):\n",
      "\n",
      "    document.querySelectorAll(\"form\")\n",
      "    document.querySelectorAll(\"input\")"
     ]
    },
    {
     "cell_type": "markdown",
     "metadata": {},
     "source": [
      "### \u6539\u62ff\u4e00\u500b\u641c\u5c0b\u7684\u7d50\u679c\n",
      "\n",
      "\u73fe\u5728, \u6bd4\u5982\u6211\u5011\u641c\u5c0b Sony, \u6211\u5011\u5c31\u628a\u641c\u5c0b\u5f8c\u7684 URL copy \u4e0b\u4f86\u3002\n",
      "\n",
      "![PCHome \u641c\u5c0b\u7d50\u679c](images/pchomesearch2.png)"
     ]
    },
    {
     "cell_type": "code",
     "collapsed": false,
     "input": [
      "res = requests.get(\"http://ecshweb.pchome.com.tw/search/v3.2/?q=sony\")"
     ],
     "language": "python",
     "metadata": {},
     "outputs": [],
     "prompt_number": 113
    },
    {
     "cell_type": "code",
     "collapsed": false,
     "input": [
      "S = PyQuery(res.text)"
     ],
     "language": "python",
     "metadata": {},
     "outputs": [],
     "prompt_number": 114
    },
    {
     "cell_type": "code",
     "collapsed": false,
     "input": [
      "S(\"#ItemContainer\").outerHtml()"
     ],
     "language": "python",
     "metadata": {},
     "outputs": [
      {
       "metadata": {},
       "output_type": "pyout",
       "prompt_number": 115,
       "text": [
        "u'<dd id=\"ItemContainer\"></dd>'"
       ]
      }
     ],
     "prompt_number": 115
    },
    {
     "cell_type": "markdown",
     "metadata": {},
     "source": [
      "#### \u7a7a\u7684!! \u600e\u9ebc\u6703\u662f\u7a7a\u7684!!??"
     ]
    },
    {
     "cell_type": "markdown",
     "metadata": {},
     "source": [
      "### \u7528 Chrome \u7684 Network \u4f86\u5206\u6790\n",
      "\n",
      "\u9019\u88e1\u662f\u7db2\u9801\u5e38\u78b0\u5230\u7684\u72c0\u6cc1, \u5c31\u662f\u8b80\u5165\u7db2\u9801\u5f8c, \u53c8\u6703\u7528 JavaScript \u53bb\u547c\u53eb\u3001\u8b80\u5165\u4e00\u5806\u6771\u897f\u3002\u9019\u6642\u6211\u5011\u53ef\u4ee5\u7528 Chrome \u5143\u7d20\u5206\u6790, \u7136\u5f8c\u9078\u64c7 \"Network\"\u3002\u9019\u6642\u52c7\u6562\u6309\u4e0b\u53bb, \u518d reload \u7db2\u9801, \u662f\u4e0d\u662f\u4e00\u5806\u6771\u897f\u8dd1\u51fa\u4f86?\n",
      "\n",
      "![filter \u4f7f\u7528](images/filter.png)\n",
      "\n",
      "\u6211\u5011\u53ef\u4ee5\u7528 filter (\u6309\u4e0b\u90a3\u500b\u5716\u6a23) \u9078\u6211\u5011\u8981\u770b\u7684\u5143\u4ef6\u985e\u5225, \u6700\u5e38\u6703\u6709\u8cc7\u6599\u7684\u5927\u6982\u5c31\u662f\u5728\n",
      "\n",
      "* Documents\n",
      "* Scripts\n",
      "* XHR\n",
      "\n",
      "\u4e4b\u4e0b\u3002\u4eca\u5929\u6211\u5011\u627e\u4f86\u627e\u53bb\u5728 XHR \u4e2d\u7684\u9019\u88e1\u627e\u5230\u9019\u500b\u7db2\u5740, \u81ea\u884c\u8a66\u9a57\u5f8c\u767c\u73fe:\n",
      "\n",
      "<b style=\"color:red;\">\u5c45\u7136\u76f4\u63a5\u662f json \u683c\u5f0f\u7684\u8cc7\u6599!!!</b>"
     ]
    },
    {
     "cell_type": "code",
     "collapsed": false,
     "input": [
      "import json"
     ],
     "language": "python",
     "metadata": {},
     "outputs": [],
     "prompt_number": 116
    },
    {
     "cell_type": "code",
     "collapsed": false,
     "input": [
      "res_pchome = requests.get(\"http://ecshweb.pchome.com.tw/search/v3.2/all/results?q=sony&page=1&sort=rnk/dc\")"
     ],
     "language": "python",
     "metadata": {},
     "outputs": [],
     "prompt_number": 118
    },
    {
     "cell_type": "markdown",
     "metadata": {},
     "source": [
      "\u6293\u56de\u8cc7\u6599\u7528 json \u89e3\u4e00\u4e0b, \u518d\u505a\u6210 DataFrame\u3002"
     ]
    },
    {
     "cell_type": "code",
     "collapsed": false,
     "input": [
      "data_json = json.loads(res_pchome.text)"
     ],
     "language": "python",
     "metadata": {},
     "outputs": [],
     "prompt_number": 120
    },
    {
     "cell_type": "code",
     "collapsed": false,
     "input": [
      "df_pchome = pd.DataFrame(data_json[\"prods\"])"
     ],
     "language": "python",
     "metadata": {},
     "outputs": [],
     "prompt_number": 121
    },
    {
     "cell_type": "code",
     "collapsed": false,
     "input": [
      "df_pchome.head()"
     ],
     "language": "python",
     "metadata": {},
     "outputs": [
      {
       "html": [
        "<div style=\"max-height:1000px;max-width:1500px;overflow:auto;\">\n",
        "<table border=\"1\" class=\"dataframe\">\n",
        "  <thead>\n",
        "    <tr style=\"text-align: right;\">\n",
        "      <th></th>\n",
        "      <th>Id</th>\n",
        "      <th>author</th>\n",
        "      <th>brand</th>\n",
        "      <th>cateId</th>\n",
        "      <th>describe</th>\n",
        "      <th>isPick</th>\n",
        "      <th>name</th>\n",
        "      <th>picB</th>\n",
        "      <th>picS</th>\n",
        "      <th>price</th>\n",
        "      <th>publishDate</th>\n",
        "    </tr>\n",
        "  </thead>\n",
        "  <tbody>\n",
        "    <tr>\n",
        "      <th>0</th>\n",
        "      <td> DGALTV-A9005G08R</td>\n",
        "      <td> </td>\n",
        "      <td> </td>\n",
        "      <td> DGALTV</td>\n",
        "      <td>  \u2605\u52a0\u8d0816G\u8a18\u61b6\u5361+\u8b80\u5361\u6a5fSONY Xperia Z3 Compact (D5833)</td>\n",
        "      <td> 0</td>\n",
        "      <td>         SONY Xperia Z3 Compact (D5833)</td>\n",
        "      <td> /pic/v1/data/item/201410/D/G/A/L/T/V/DGALTV-A9...</td>\n",
        "      <td> /pic/v1/data/item/201409/D/G/A/L/T/V/sDGALTV-A...</td>\n",
        "      <td> 14900</td>\n",
        "      <td> </td>\n",
        "    </tr>\n",
        "    <tr>\n",
        "      <th>1</th>\n",
        "      <td> DGBPER-A9005O74Z</td>\n",
        "      <td> </td>\n",
        "      <td> </td>\n",
        "      <td> DGBPER</td>\n",
        "      <td>                    SONY SWR10\u667a\u6167\u624b\u74b0(FIFA\u4e16\u8db3\u7279\u5225\u7248)</td>\n",
        "      <td> 0</td>\n",
        "      <td>       SONY SmartBand SWR10 \u667a\u6167\u624b\u74b0(\u4e16\u8db3\u7279\u5225\u7248)</td>\n",
        "      <td> /pic/v1/data/item/201412/D/G/B/P/E/R/DGBPER-A9...</td>\n",
        "      <td> /pic/v1/data/item/201412/D/G/B/P/E/R/sDGBPER-A...</td>\n",
        "      <td>  2990</td>\n",
        "      <td> </td>\n",
        "    </tr>\n",
        "    <tr>\n",
        "      <th>2</th>\n",
        "      <td> DCAQ2Q-A79548719</td>\n",
        "      <td> </td>\n",
        "      <td> </td>\n",
        "      <td> DCAQ21</td>\n",
        "      <td>                 SONY 10000nAH\u96d9USB\u8f15\u8584\u6642\u5c1a\u92c1\u5408\u91d1\u884c\u52d5\u96fb\u6e90</td>\n",
        "      <td> 0</td>\n",
        "      <td> SONY CP-F10L 10000mAh \u96d9USB\u8f15\u8584\u6642\u5c1a\u92c1\u5408\u91d1\u884c\u52d5\u96fb\u6e90\u7d44</td>\n",
        "      <td> /pic/v1/data/item/201412/D/C/A/Q/2/Q/DCAQ2Q-A7...</td>\n",
        "      <td> /pic/v1/data/item/201309/D/C/A/Q/2/Q/sDCAQ2Q-A...</td>\n",
        "      <td>  2990</td>\n",
        "      <td> </td>\n",
        "    </tr>\n",
        "    <tr>\n",
        "      <th>3</th>\n",
        "      <td> DGAD01-A90054RYV</td>\n",
        "      <td> </td>\n",
        "      <td> </td>\n",
        "      <td> DGAD01</td>\n",
        "      <td>               24mm\u2605F1.8SONY DSC-RX100M3(\u516c\u53f8\u8ca8)</td>\n",
        "      <td> 0</td>\n",
        "      <td>                  SONY DSC-RX100M3(\u516c\u53f8\u8ca8)</td>\n",
        "      <td> /pic/v1/data/item/201411/D/G/A/D/0/1/DGAD01-A9...</td>\n",
        "      <td> /pic/v1/data/item/201405/D/G/A/D/0/1/sDGAD01-A...</td>\n",
        "      <td> 24980</td>\n",
        "      <td> </td>\n",
        "    </tr>\n",
        "    <tr>\n",
        "      <th>4</th>\n",
        "      <td> DGALTV-A9005J0LX</td>\n",
        "      <td> </td>\n",
        "      <td> </td>\n",
        "      <td> DGALTV</td>\n",
        "      <td>     \u2605\u9001\u539f\u5ee0\u5ea7\u5145!!!\u2605SONY Xperia Z3 Compact (D5833)</td>\n",
        "      <td> 0</td>\n",
        "      <td>         SONY Xperia Z3 Compact (D5833)</td>\n",
        "      <td> /pic/v1/data/item/201411/D/G/A/L/T/V/DGALTV-A9...</td>\n",
        "      <td> /pic/v1/data/item/201410/D/G/A/L/T/V/sDGALTV-A...</td>\n",
        "      <td> 14490</td>\n",
        "      <td> </td>\n",
        "    </tr>\n",
        "  </tbody>\n",
        "</table>\n",
        "</div>"
       ],
       "metadata": {},
       "output_type": "pyout",
       "prompt_number": 122,
       "text": [
        "                 Id author brand  cateId  \\\n",
        "0  DGALTV-A9005G08R               DGALTV   \n",
        "1  DGBPER-A9005O74Z               DGBPER   \n",
        "2  DCAQ2Q-A79548719               DCAQ21   \n",
        "3  DGAD01-A90054RYV               DGAD01   \n",
        "4  DGALTV-A9005J0LX               DGALTV   \n",
        "\n",
        "                                       describe  isPick  \\\n",
        "0   \u2605\u52a0\u8d0816G\u8a18\u61b6\u5361+\u8b80\u5361\u6a5fSONY Xperia Z3 Compact (D5833)       0   \n",
        "1                     SONY SWR10\u667a\u6167\u624b\u74b0(FIFA\u4e16\u8db3\u7279\u5225\u7248)       0   \n",
        "2                  SONY 10000nAH\u96d9USB\u8f15\u8584\u6642\u5c1a\u92c1\u5408\u91d1\u884c\u52d5\u96fb\u6e90       0   \n",
        "3                24mm\u2605F1.8SONY DSC-RX100M3(\u516c\u53f8\u8ca8)       0   \n",
        "4      \u2605\u9001\u539f\u5ee0\u5ea7\u5145!!!\u2605SONY Xperia Z3 Compact (D5833)       0   \n",
        "\n",
        "                                     name  \\\n",
        "0          SONY Xperia Z3 Compact (D5833)   \n",
        "1        SONY SmartBand SWR10 \u667a\u6167\u624b\u74b0(\u4e16\u8db3\u7279\u5225\u7248)   \n",
        "2  SONY CP-F10L 10000mAh \u96d9USB\u8f15\u8584\u6642\u5c1a\u92c1\u5408\u91d1\u884c\u52d5\u96fb\u6e90\u7d44   \n",
        "3                   SONY DSC-RX100M3(\u516c\u53f8\u8ca8)   \n",
        "4          SONY Xperia Z3 Compact (D5833)   \n",
        "\n",
        "                                                picB  \\\n",
        "0  /pic/v1/data/item/201410/D/G/A/L/T/V/DGALTV-A9...   \n",
        "1  /pic/v1/data/item/201412/D/G/B/P/E/R/DGBPER-A9...   \n",
        "2  /pic/v1/data/item/201412/D/C/A/Q/2/Q/DCAQ2Q-A7...   \n",
        "3  /pic/v1/data/item/201411/D/G/A/D/0/1/DGAD01-A9...   \n",
        "4  /pic/v1/data/item/201411/D/G/A/L/T/V/DGALTV-A9...   \n",
        "\n",
        "                                                picS  price publishDate  \n",
        "0  /pic/v1/data/item/201409/D/G/A/L/T/V/sDGALTV-A...  14900              \n",
        "1  /pic/v1/data/item/201412/D/G/B/P/E/R/sDGBPER-A...   2990              \n",
        "2  /pic/v1/data/item/201309/D/C/A/Q/2/Q/sDCAQ2Q-A...   2990              \n",
        "3  /pic/v1/data/item/201405/D/G/A/D/0/1/sDGAD01-A...  24980              \n",
        "4  /pic/v1/data/item/201410/D/G/A/L/T/V/sDGALTV-A...  14490              "
       ]
      }
     ],
     "prompt_number": 122
    },
    {
     "cell_type": "markdown",
     "metadata": {},
     "source": [
      "#### \u9019\u662f\u4e0d\u662f\u592a\u904e\u4efd\u4e86, \u6211\u5011\u9084\u6c92\u6709\u7528 Python \u8a8d\u771f\u89e3\u8cc7\u6599\u5c31\u6293\u5b8c\u4e86!!\n",
      "\n",
      "\u7576\u7136\u4f60\u9084\u662f\u8981\u50cf\u524d\u9762\u90a3\u6a23, \u628a\u5b83\u5b58\u4e0b\u4f86\u3002"
     ]
    },
    {
     "cell_type": "markdown",
     "metadata": {},
     "source": [
      "## \u7d50\u5c3e\u63d2\u64ad\n",
      "iterator \u8b8a generator"
     ]
    },
    {
     "cell_type": "code",
     "collapsed": false,
     "input": [
      "g = (xx for xx in range(10))"
     ],
     "language": "python",
     "metadata": {},
     "outputs": [],
     "prompt_number": 97
    },
    {
     "cell_type": "code",
     "collapsed": false,
     "input": [
      "g.next()"
     ],
     "language": "python",
     "metadata": {},
     "outputs": [
      {
       "metadata": {},
       "output_type": "pyout",
       "prompt_number": 98,
       "text": [
        "0"
       ]
      }
     ],
     "prompt_number": 98
    },
    {
     "cell_type": "code",
     "collapsed": false,
     "input": [
      "g.next()"
     ],
     "language": "python",
     "metadata": {},
     "outputs": [
      {
       "metadata": {},
       "output_type": "pyout",
       "prompt_number": 99,
       "text": [
        "1"
       ]
      }
     ],
     "prompt_number": 99
    },
    {
     "cell_type": "code",
     "collapsed": false,
     "input": [
      "list(g) # \u8b8a\u56de\u4f86"
     ],
     "language": "python",
     "metadata": {},
     "outputs": [
      {
       "metadata": {},
       "output_type": "pyout",
       "prompt_number": 100,
       "text": [
        "[2, 3, 4, 5, 6, 7, 8, 9]"
       ]
      }
     ],
     "prompt_number": 100
    },
    {
     "cell_type": "code",
     "collapsed": false,
     "input": [
      "def gg():\n",
      "    for xx in range(10):\n",
      "        yield xx"
     ],
     "language": "python",
     "metadata": {},
     "outputs": [],
     "prompt_number": 101
    },
    {
     "cell_type": "code",
     "collapsed": false,
     "input": [
      "g = gg()"
     ],
     "language": "python",
     "metadata": {},
     "outputs": [],
     "prompt_number": 102
    },
    {
     "cell_type": "code",
     "collapsed": false,
     "input": [
      "list(g)"
     ],
     "language": "python",
     "metadata": {},
     "outputs": [
      {
       "metadata": {},
       "output_type": "pyout",
       "prompt_number": 103,
       "text": [
        "[0, 1, 2, 3, 4, 5, 6, 7, 8, 9]"
       ]
      }
     ],
     "prompt_number": 103
    }
   ],
   "metadata": {}
  }
 ]
}